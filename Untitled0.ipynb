{
 "metadata": {
  "name": "",
  "signature": "sha256:7e157abd520ec9a927dcf3620dd511b317a0ff38e2ae83d35775d61752048d12"
 },
 "nbformat": 3,
 "nbformat_minor": 0,
 "worksheets": [
  {
   "cells": [
    {
     "cell_type": "code",
     "collapsed": false,
     "input": [
      "import matplotlib as mt\n",
      "import pandas as pd\n",
      "import pylab as pl\n",
      "import numpy as np\n",
      "import matplotlib.pyplot as plt\n",
      "from matplotlib import pylab as plt\n",
      "from scipy import signal\n",
      "from functools import reduce\n",
      "import scipy\n",
      "import time\n",
      "%matplotlib inline\n",
      "\n",
      "data = pd.read_csv(\"ftp_or3.csv\")\n",
      "data = data.convert_objects(convert_numeric=True)\n",
      "data = data.dropna()\n",
      "pct = data.C_TRQENG.pct_change()\n",
      "nlarge = pct.nlargest(5)\n",
      "data.E_COHD"
     ],
     "language": "python",
     "metadata": {},
     "outputs": [
      {
       "metadata": {},
       "output_type": "pyout",
       "prompt_number": 2,
       "text": [
        "1     0.001\n",
        "2     0.001\n",
        "3     0.001\n",
        "4     0.001\n",
        "5     0.001\n",
        "6     0.001\n",
        "7     0.001\n",
        "8     0.003\n",
        "9     0.008\n",
        "10    0.010\n",
        "11    0.011\n",
        "12    0.012\n",
        "13    0.011\n",
        "14    0.011\n",
        "15    0.011\n",
        "...\n",
        "1215    0.013\n",
        "1216    0.013\n",
        "1217    0.013\n",
        "1218    0.013\n",
        "1219    0.013\n",
        "1220    0.013\n",
        "1221    0.013\n",
        "1222    0.013\n",
        "1223    0.013\n",
        "1224    0.013\n",
        "1225    0.013\n",
        "1226    0.013\n",
        "1227    0.013\n",
        "1228    0.013\n",
        "1229    0.013\n",
        "Name: E_COHD, Length: 1229, dtype: float64"
       ]
      }
     ],
     "prompt_number": 2
    }
   ],
   "metadata": {}
  }
 ]
}