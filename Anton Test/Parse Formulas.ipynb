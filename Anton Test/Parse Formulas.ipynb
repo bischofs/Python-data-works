{
 "cells": [
  {
   "cell_type": "code",
   "execution_count": 226,
   "metadata": {
    "collapsed": false,
    "scrolled": true
   },
   "outputs": [],
   "source": [
    "import matplotlib as mt\n",
    "import pandas as pd\n",
    "import pylab as pl\n",
    "import numpy as np\n",
    "import matplotlib.pyplot as plt\n",
    "from matplotlib import pylab as plt\n",
    "from scipy import signal\n",
    "from functools import reduce\n",
    "import scipy\n",
    "import time\n",
    "%matplotlib inline\n",
    "\n",
    "data = pd.read_csv(\"raw.csv\", header=(5))\n",
    "data_preheader = pd.read_csv(\"raw.csv\", nrows=2, index_col=6, header=1)\n",
    "data = data.convert_objects(convert_numeric=True)\n",
    "data_c = pd.DataFrame()\n",
    "\n",
    "## Get RFPF, CH4 RF, Tchiller, Pchiller, Pamb\n",
    "RFPF = 0.0133\n",
    "CH4_RF = 1.1\n",
    "Tchiller = 7\n",
    "Pamb = 98.0918852\n",
    "Pchiller = Pamb + 23.75\n",
    "xCO2intdry = 0.000375\n",
    "xCO2dildry = 0.000375\n",
    "xTHC[THC_FID]init = 1\n"
   ]
  },
  {
   "cell_type": "code",
   "execution_count": 227,
   "metadata": {
    "collapsed": false
   },
   "outputs": [],
   "source": [
    "##### First Level of Calculation #####\n",
    "data_c[\"E_CO2D2\"] = data.E_CO2D2*10000 # % --> ppm\n",
    "data_c[\"E_COHD2\"] = data.E_COHD2*10000 # % --> ppm\n",
    "data_c[\"E_NOXD2\"] = data.E_NOXD2\n",
    "data_c[\"E_THCW2\"] = data.E_THCW2\n",
    "data_c[\"xCH4wet\"] = data.E_CH4W2/1000000 # ppm --> mol/mol\n",
    "data_c[\"C_FRAIRWS\"] = data.C_FRAIRWS\n",
    "data_c[\"BARO Press\"] = data.P_INLET*100 # in kPa\n",
    "data_c[\"T_INLET\"] = data.T_INLET\n",
    "data_c[\"M_RELHUM\"] = data.M_RELHUM\n",
    "data_c[\"mfuel\"] = data.M_FRFUEL*1000/3600 # kg/h --> g/s"
   ]
  },
  {
   "cell_type": "code",
   "execution_count": null,
   "metadata": {
    "collapsed": false
   },
   "outputs": [],
   "source": [
    "##### Second Level of Calculation #####\n",
    "data_c[\"xCO2meas\"] = data_c.E_CO2D2/1000000 # ppm --> mol/mol\n",
    "data_c[\"xCOmeas\"] = data_c.E_COHD2/1000000 # ppm --> mol/mol\n",
    "data_c[\"xNOxmeas\"] = data_c.E_NOXD2/1000000 # ppm --> mol/mol\n",
    "data_c[\"xTHCmeas\"] = data_c.E_THCW2/1000000 # ppm --> mol/mol\n",
    "data_c[\"Molar Flow Wet\"] = data_c.C_FRAIRWS*1000/3600 # kg/h --> g/s\n",
    "data_c[\"maf_kgh (wet)\"] = data_c.C_FRAIRWS\n",
    "data_c[\"pH2O @ inlet\"] = 10**(10.79574*(1-(273.16/(273.15+data_c.T_INLET)))-5.028*np.log10((273.15+data_c.T_INLET)/273.16)+0.000150475*(1-10**(-8.2969*(((273.15+data_c.T_INLET)/273.16)-1)))+0.00042873*(10**(4.76955*(1-(273.16/(273.15+data_c.T_INLET))))-1)-0.2138602)\n",
    "data_c[\"xH2O\"] = data_c.M_RELHUM*data_c.get(\"pH2O @ inlet\")/(data_c.get(\"BARO Press\")*100)\n",
    "data_c[\"xTHC[THC_FID]cor\"] = data_c.E_THCW2-xTHC[THC_FID]init\n",
    "# nexh - CA"
   ]
  },
  {
   "cell_type": "code",
   "execution_count": 232,
   "metadata": {
    "collapsed": false,
    "scrolled": false
   },
   "outputs": [],
   "source": [
    "##### Third Level of Calculation #####\n",
    "## data_c[\"xCO2wet\"] - AB\n",
    "## data_c[\"xCOwet\"] - AQ\n",
    "data_c[\"xNO2meas\"] = data_c.xNOxmeas*0\n",
    "data_c[\"xNOmeas\"] = data_c.xNOxmeas*1\n",
    "## xNOxdry - AK\n",
    "data_c[\"xTHCwet\"] = data_c.xTHCmeas\n",
    "data_c[\"Intake Air flow\"] = data_c.get(\"Molar Flow Wet\")/28.96 # g/sec --> mol/sec\n",
    "data_c[\"Mmix\"] = 28.96559*(1-data_c.xH2O)+18.01528*data_c.xH2O\n",
    "## xNOxcorrwet - AY\n",
    "## Mass_NMHC - CF\n",
    "data_c[\"xH2Oint\"] = data_c.xH2O\n",
    "data_c[\"xH2Odil\"] = data_c.xH2O"
   ]
  },
  {
   "cell_type": "code",
   "execution_count": 230,
   "metadata": {
    "collapsed": false
   },
   "outputs": [],
   "source": [
    "##### Fourth Level of Calculation #####\n",
    "## data_c[\"xNO2dry\"] = AL\n",
    "## xNO2wet - AT\n",
    "## xNOdry - AM\n",
    "## xNOwet - AU\n",
    "data_c[\"xNMHCwet\"] = (data_c.xTHCwet-data_c.xCH4wet*CH4_RF)/(1-RFPF*CH4_RF)\n",
    "## Mass_THC - CB\n",
    "data_c[\"nint (Intake Air Flow)\"] = data_c.get(\"Molar Flow Wet\")/data_c.Mmix\n",
    "data_c[\"xH2Ointdry\"] = data_c.xH2Oint/(1-data_c.xH2Oint)\n",
    "data_c[\"xH2Odildry\"] = data_c.xH2Odil/(1-data_c.xH2Odil)\n",
    "## xH2Oexhdry - J"
   ]
  },
  {
   "cell_type": "code",
   "execution_count": 231,
   "metadata": {
    "collapsed": false
   },
   "outputs": [],
   "source": [
    "##### Fifth Level of Calculation #####\n",
    "## Mass_NMHC - CF\n",
    "data_c[\"xCO2int\"] = xCO2intdry/(1+data_c.xH2Ointdry)\n",
    "data_c[\"xO2int\"] = ((0.20982-xCO2intdry)/(1+data_c.xH2Ointdry)) \n",
    "data_c[\"xCO2dil\"] = xCO2dildry/(1+data_c.xH2Odildry)\n",
    "##data_c[\"nexh\"] = "
   ]
  },
  {
   "cell_type": "code",
   "execution_count": null,
   "metadata": {
    "collapsed": true
   },
   "outputs": [],
   "source": [
    "##### Sixth Level of Calculation #####\n",
    "## xCcombdry - I\n",
    "## xint/exhdry - L\n",
    "## xH2dry - AO"
   ]
  }
 ],
 "metadata": {
  "kernelspec": {
   "display_name": "Python 3",
   "language": "python",
   "name": "python3"
  },
  "language_info": {
   "codemirror_mode": {
    "name": "ipython",
    "version": 3
   },
   "file_extension": ".py",
   "mimetype": "text/x-python",
   "name": "python",
   "nbconvert_exporter": "python",
   "pygments_lexer": "ipython3",
   "version": "3.3.3"
  }
 },
 "nbformat": 4,
 "nbformat_minor": 0
}
