{
 "cells": [
  {
   "cell_type": "code",
   "execution_count": 2,
   "metadata": {
    "collapsed": false,
    "scrolled": true
   },
   "outputs": [
    {
     "name": "stdout",
     "output_type": "stream",
     "text": [
      "Initialization finished!\n"
     ]
    }
   ],
   "source": [
    "import matplotlib as mt\n",
    "import pandas as pd\n",
    "import pylab as pl\n",
    "import numpy as np\n",
    "import scipy as sc\n",
    "import scipy.optimize as opt\n",
    "\n",
    "data = pd.read_csv(\"Test_data.csv\", header=2,low_memory=False)\n",
    "data = data.convert_objects(convert_numeric=True)\n",
    "data_c = pd.DataFrame()\n",
    "\n",
    "## Prepare constant Values\n",
    "RFPF = 0.0133\n",
    "CH4_RF = 1.1\n",
    "Tchiller = 7\n",
    "Pamb = 98.0918852\n",
    "Pchiller = Pamb + 23.75\n",
    "xCO2intdry = 0.000375\n",
    "xCO2dildry = 0.000375\n",
    "xTHC_THC_FID_init = 1\n",
    "print(\"Initialization finished!\")"
   ]
  },
  {
   "cell_type": "code",
   "execution_count": 3,
   "metadata": {
    "collapsed": false
   },
   "outputs": [
    {
     "name": "stdout",
     "output_type": "stream",
     "text": [
      "First Level of Calculation finished!\n"
     ]
    }
   ],
   "source": [
    "##### First Level of Calculation #####\n",
    "data_c[\"E_CO2D2\"] = data.E_CO2D2*10000 # % --> ppm\n",
    "data_c[\"E_COHD2\"] = data.E_COHD2*10000 # % --> ppm\n",
    "data_c[\"E_NOXD2\"] = data.E_NOXD2\n",
    "data_c[\"E_THCW2\"] = data.E_THCW2\n",
    "data_c[\"xCH4wet\"] = data.E_CH4W2/1000000 # ppm --> mol/mol\n",
    "data_c[\"C_FRAIRWS\"] = data.C_FRAIRWS\n",
    "data_c[\"BARO Press\"] = data.P_INLET*100 # in kPa\n",
    "data_c[\"T_INLET\"] = data.T_INLET\n",
    "data_c[\"M_RELHUM\"] = data.M_RELHUM\n",
    "data_c[\"mfuel\"] = data.M_FRFUEL*1000/3600 # kg/h --> g/s\n",
    "print(\"First Level of Calculation finished!\")"
   ]
  },
  {
   "cell_type": "code",
   "execution_count": 4,
   "metadata": {
    "collapsed": false
   },
   "outputs": [
    {
     "name": "stdout",
     "output_type": "stream",
     "text": [
      "Second Level of Calculation finished!\n"
     ]
    }
   ],
   "source": [
    "##### Second Level of Calculation #####\n",
    "data_c[\"xCO2meas\"] = data_c.E_CO2D2/1000000 # ppm --> mol/mol\n",
    "data_c[\"xCOmeas\"] = data_c.E_COHD2/1000000 # ppm --> mol/mol\n",
    "data_c[\"xNOxmeas\"] = data_c.E_NOXD2/1000000 # ppm --> mol/mol\n",
    "data_c[\"xTHCmeas\"] = data_c.E_THCW2/1000000 # ppm --> mol/mol\n",
    "data_c[\"Molar Flow Wet\"] = data_c.C_FRAIRWS*1000/3600 # kg/h --> g/s\n",
    "data_c[\"maf_kgh (wet)\"] = data_c.C_FRAIRWS\n",
    "data_c[\"pH2O @ inlet\"] = 10**(10.79574*(1-(273.16/(273.15+data_c.T_INLET)))-5.028*np.log10((273.15+data_c.T_INLET)/273.16)+0.000150475*(1-10**(-8.2969*(((273.15+data_c.T_INLET)/273.16)-1)))+0.00042873*(10**(4.76955*(1-(273.16/(273.15+data_c.T_INLET))))-1)-0.2138602)  ## Reference: CFR 1065.564\n",
    "data_c[\"xH2O\"] = data_c.M_RELHUM*data_c.get(\"pH2O @ inlet\")/(data_c.get(\"BARO Press\")*100) ## Reference: CFR 1065.564\n",
    "data_c[\"xTHC[THC_FID]cor\"] = data_c.E_THCW2-xTHC_THC_FID_init ## Reference: CFR 1065.660\n",
    "print(\"Second Level of Calculation finished!\")"
   ]
  },
  {
   "cell_type": "code",
   "execution_count": 5,
   "metadata": {
    "collapsed": false,
    "scrolled": false
   },
   "outputs": [
    {
     "name": "stdout",
     "output_type": "stream",
     "text": [
      "Third Level of Calculation finished!\n"
     ]
    }
   ],
   "source": [
    "##### Third Level of Calculation #####\n",
    "data_c.E_THCW2 = data_c.get(\"xTHC[THC_FID]cor\") ## Reference: CFR 1065.660\n",
    "data_c[\"xNO2meas\"] = data_c.xNOxmeas*0\n",
    "data_c[\"xNOmeas\"] = data_c.xNOxmeas*1\n",
    "data_c[\"xTHCwet\"] = data_c.xTHCmeas\n",
    "data_c[\"Intake Air flow\"] = data_c.get(\"Molar Flow Wet\")/28.96 # g/sec --> mol/sec\n",
    "data_c[\"Mmix\"] = 28.96559*(1-data_c.xH2O)+18.01528*data_c.xH2O\n",
    "data_c[\"xH2Oint\"] = data_c.xH2O\n",
    "data_c[\"xH2Odil\"] = data_c.xH2O\n",
    "\n",
    "# Constant Channels\n",
    "c = np.zeros((len(data_c),1))\n",
    "c.fill(3.5)\n",
    "data_c[\"xH2Ogas\"] = c\n",
    "c.fill(13.875389)\n",
    "data_c[\"Molar Mass of HC Emissions\"] = c\n",
    "c.fill(28.0101)\n",
    "data_c[\"Molar Mass of CO Emissions\"] = c\n",
    "c.fill(46.0055)\n",
    "data_c[\"Molar Mass of NOx Emissions (as NO2)\"] = c\n",
    "c.fill(44.0095)\n",
    "data_c[\"Molar Mass of CO2 Emissions\"] = c\n",
    "c.fill(13.875389)\n",
    "data_c[\"Molar Mass of NMHC Emissions\"] = c\n",
    "c.fill(0.866)\n",
    "data_c[\"Wc\"] = c\n",
    "print(\"Third Level of Calculation finished!\")"
   ]
  },
  {
   "cell_type": "code",
   "execution_count": 6,
   "metadata": {
    "collapsed": false
   },
   "outputs": [
    {
     "name": "stdout",
     "output_type": "stream",
     "text": [
      "Fourth Level of Calculation finished!\n"
     ]
    }
   ],
   "source": [
    "##### Fourth Level of Calculation #####\n",
    "data_c[\"xNMHCwet\"] = (data_c.xTHCwet-data_c.xCH4wet*CH4_RF)/(1-RFPF*CH4_RF) ## Reference: CFR 1065.660\n",
    "data_c[\"nint (Intake Air Flow)\"] = data_c.get(\"Molar Flow Wet\")/data_c.Mmix\n",
    "data_c[\"xH2Ointdry\"] = data_c.xH2Oint/(1-data_c.xH2Oint)\n",
    "data_c[\"xH2Odildry\"] = data_c.xH2Odil/(1-data_c.xH2Odil)\n",
    "print(\"Fourth Level of Calculation finished!\")"
   ]
  },
  {
   "cell_type": "code",
   "execution_count": 7,
   "metadata": {
    "collapsed": false,
    "scrolled": true
   },
   "outputs": [
    {
     "name": "stdout",
     "output_type": "stream",
     "text": [
      "Fifth Level of Calculation finished!\n"
     ]
    }
   ],
   "source": [
    "##### Fifth Level of Calculation #####\n",
    "data_c[\"xCO2int\"] = xCO2intdry/(1+data_c.xH2Ointdry)\n",
    "data_c[\"xO2int\"] = ((0.20982-xCO2intdry)/(1+data_c.xH2Ointdry)) \n",
    "data_c[\"xCO2dil\"] = xCO2dildry/(1+data_c.xH2Odildry)\n",
    "print(\"Fifth Level of Calculation finished!\")"
   ]
  },
  {
   "cell_type": "code",
   "execution_count": 8,
   "metadata": {
    "collapsed": false,
    "scrolled": true
   },
   "outputs": [
    {
     "name": "stdout",
     "output_type": "stream",
     "text": [
      "Circle Calculation finished!\n"
     ]
    }
   ],
   "source": [
    "##### Circle Calculation #####\n",
    "def f(variables):\n",
    "    # Channels in Formulas\n",
    "    #A = data.xdil/exh -- G\n",
    "    #B = data.xH2Oexh -- H\n",
    "    #C = data.xCcombdry -- I\n",
    "    #D = data.xH2Oexhdry -- J\n",
    "    #E = data.xdil/exhdry -- K\n",
    "    #F = data.xint/exhdry -- L\n",
    "    #G = data.xraw/exhdry -- M\n",
    "    #H = data.xH2OCOmeas -- AC\n",
    "    #I = data.xH2OTHCmeas -- AD\n",
    "    #J = data.xH2ONOxmeas -- AE\n",
    "    #K = data.xH2ONO2meas -- AF\n",
    "    #L = data.xH2OCO2meas -- AH\n",
    "    #M = data.xCOdry -- AI\n",
    "    #N = data.xTHCdry -- AJ\n",
    "    #O = data.xNOxdry -- AK\n",
    "    #P = data.xNO2dry -- AL\n",
    "    #Q = data.xCO2dry -- AN\n",
    "    #R = data.xH2dry -- AO    \n",
    "    \n",
    "    # Constant Values    \n",
    "    alpha = 1.84\n",
    "    beta = 0\n",
    "    gamma = 0\n",
    "    delta = 0\n",
    "    h2ogas = 3.5    \n",
    "    \n",
    "    # Unknown Variables\n",
    "    (A,B,C,D,E,F,G,H,I,J,K,L,M,N,O,P,Q,R) = variables\n",
    "        \n",
    "    # Known Variables\n",
    "    S = data_c.xCO2dil[i]\n",
    "    T = data_c.xCO2int[i]\n",
    "    U = alpha\n",
    "    V = data_c.xH2Odil[i]\n",
    "    W = data_c.xH2Oint[i]\n",
    "    X = data_c.xO2int[i]\n",
    "    Y = beta\n",
    "    Z = gamma\n",
    "    AA = delta\n",
    "    AB = data_c.xCOmeas[i]\n",
    "    AC = data_c.xTHCmeas[i]\n",
    "    AD = data_c.xNOxmeas[i]\n",
    "    AE = data_c.xNO2meas[i]\n",
    "    AF = h2ogas\n",
    "    AG = data_c.xCO2meas[i]\n",
    "    \n",
    "    # Equations to solve\n",
    "    eq1 = 1-(G/(1+D))-A\n",
    "    eq2 = D/(1+D)-B\n",
    "    eq3 = Q+(M)+(N)-(S*E)-(T*F)-C\n",
    "    eq4 = ((U/2)*(C-N))+V*E+W*F-R-D \n",
    "    eq5 = A/(1-B)-E\n",
    "    eq6 = (1/(2*X))*(((U/2)-Y+2+(2*Z))*(C-N)-(M-O-(2*P)+R))-F\n",
    "    eq7 = 0.5*(((U/2)+Y+AA)*(C-N)+((2*N)+M-P+R))+F-G\n",
    "    eq8 = AB/(1-H)-M ## Reference: CFR 1065.659\n",
    "    eq10 = AC/(1-I)-N ## Reference: CFR 1065.659\n",
    "    eq11 = B-I\n",
    "    eq12 = AD/(1-J)-O ## Reference: CFR 1065.659\n",
    "    eq14 = AE/(1-K)-P ## Reference: CFR 1065.659\n",
    "    eq16 = (M*(D-V*E))/(AF*(Q-S*E))-R ## Reference: CFR 1065.659\n",
    "    eq17 = AG/(1-L)-Q ## Reference: CFR 1065.659\n",
    "    \n",
    "    if mode==0:\n",
    "        eq9 = bs-H    \n",
    "        eq13 = bs-J\n",
    "        eq15 = bs-K\n",
    "        eq18 = bs-L\n",
    "    else:\n",
    "        eq9 = B-H    \n",
    "        eq13 = B-J\n",
    "        eq15 = B-K\n",
    "        eq18 = B-L\n",
    "    \n",
    "    return [eq1,eq2,eq3,eq4,eq5,eq6,eq7,eq8,eq9,eq10,eq11,eq12,eq13,eq14,eq15,eq16,eq17,eq18]\n",
    "\n",
    "i = 0\n",
    "mode = 0\n",
    "b = np.zeros((len(data_c),18))\n",
    "bs = 0.00821722713286476 # Has to be calculated\n",
    "\n",
    "while i < len(data_c)-1:\n",
    "    i +=1  \n",
    "    g = 0.5 # First guess for iteration start\n",
    "\n",
    "    solution = opt.fsolve(f,(g,g,g,g,g,g,g,g,g,g,g,g,g,g,g,g,g,g))\n",
    "    \n",
    "    if solution[2]<bs:\n",
    "        mode = 1\n",
    "        solution = opt.fsolve(f,(g,g,g,g,g,g,g,g,g,g,g,g,g,g,g,g,g,g))\n",
    "        mode = 0\n",
    "    b[:][i] = solution\n",
    "\n",
    "df = pd.DataFrame(b,columns =['xdil/exh','xH2Oexh','xCcombdry','xH2Oexhdry','xdil/exhdry','xint/exhdry','xraw/exhdry','xH2OCOmeas','xH2OTHCmeas','xH2ONOxmeas','xH2ONO2meas','xH2OCO2meas','xCOdry','xTHCdry','xNOxdry','xNO2dry','xCO2dry','xH2dry'])\n",
    "data_c = pd.concat([data_c,df],axis=1)\n",
    "print(\"Circle Calculation finished!\")\n",
    "## 05/06/2015 - Anton lang, Lang@FEV.com"
   ]
  },
  {
   "cell_type": "code",
   "execution_count": 9,
   "metadata": {
    "collapsed": false,
    "scrolled": true
   },
   "outputs": [
    {
     "name": "stdout",
     "output_type": "stream",
     "text": [
      "Calculation finished and Report saved!\n"
     ]
    }
   ],
   "source": [
    "##### Calculation of remaining values #####\n",
    "data_c[\"xH2ONOmeas\"] = data_c.xH2ONO2meas\n",
    "data_c[\"xNOdry\"] = data_c.xNOmeas/(1-data_c.xH2ONOmeas) ## Reference: CFR 1065.659\n",
    "data_c[\"xCO2dry\"] = data_c.xCO2meas/(1-data_c.xH2OCO2meas) ## Reference: CFR 1065.659\n",
    "data_c[\"xH2dry\"] = (data_c.xCOdry*(data_c.xH2Oexhdry-data_c.xH2Odil*data_c.get(\"xdil/exhdry\")))/(data_c.xH2Ogas*(data_c.xCO2dry-data_c.xCO2dil*data_c.get(\"xdil/exhdry\")))\n",
    "data_c[\"xCOwet\"] = data_c.xCOmeas*((1-data_c.xH2Oexh)/(1-data_c.xH2OCOmeas))\n",
    "data_c['xNOxwet'] = data_c.xNOxmeas*((1-data_c.xH2Oexh)/(1-data_c.xH2ONOxmeas))\n",
    "data_c[\"xNO2wet\"] = data_c.xNO2meas*((1-data_c.xH2Oexh)/(1-data_c.xH2ONO2meas))\n",
    "data_c[\"xNOwet\"] = data_c.xNOmeas*((1-data_c.xH2Oexh)/(1-data_c.xH2ONOmeas))\n",
    "data_c[\"xCO2wet\"] = data_c.xCO2meas*((1-data_c.xH2Oexh)/(1-data_c.xH2OCO2meas))\n",
    "data_c[\"xNOxcorrwet\"] = data_c.xNOxwet*(18.84 *data_c.xH2O + 0.68094) ## Reference: CFR 1065.670\n",
    "\n",
    "data_c[\"nexh\"] = data_c.get(\"nint (Intake Air Flow)\")/(1+((data_c.get(\"xint/exhdry\")-data_c.get(\"xraw/exhdry\"))/(1+data_c.xH2Oexhdry)))\n",
    "data_c[\"Mass_THC\"] = data_c.xTHCwet*data_c.nexh*data_c.get(\"Molar Mass of HC Emissions\")\n",
    "data_c[\"Mass_CO\"] = data_c.xCOwet*data_c.nexh*data_c.get(\"Molar Mass of CO Emissions\")\n",
    "data_c[\"Mass_NOx\"] = data_c.xNOxcorrwet*data_c.nexh*data_c.get(\"Molar Mass of NOx Emissions (as NO2)\")\n",
    "data_c[\"Mass_CO2\"] = data_c.xCO2wet*data_c.nexh*data_c.get(\"Molar Mass of CO2 Emissions\")\n",
    "data_c[\"Mass_NMHC\"] = data_c.xNMHCwet*data_c.nexh*data_c.get(\"Molar Mass of NMHC Emissions\")\n",
    "\n",
    "data_c.to_csv(\"Calculation_Report.csv\")\n",
    "print(\"Calculation finished and Report saved!\")"
   ]
  },
  {
   "cell_type": "code",
   "execution_count": 10,
   "metadata": {
    "collapsed": false
   },
   "outputs": [],
   "source": [
    "# Emissions in total\n",
    "sum_THC = data_c.Mass_THC.sum(skipna = True)\n",
    "sum_CO = data_c.Mass_CO.sum(skipna = True)\n",
    "sum_NOx = data_c.Mass_NOx.sum(skipna=True)\n",
    "sum_CO2 = data_c.Mass_CO2.sum(skipna=True)\n",
    "sum_NMHC = data_c.Mass_NMHC.sum(skipna=True)"
   ]
  },
  {
   "cell_type": "code",
   "execution_count": 11,
   "metadata": {
    "collapsed": false
   },
   "outputs": [
    {
     "data": {
      "text/plain": [
       "6.4206272155960997"
      ]
     },
     "execution_count": 11,
     "metadata": {},
     "output_type": "execute_result"
    }
   ],
   "source": [
    "sum_THC"
   ]
  }
 ],
 "metadata": {
  "kernelspec": {
   "display_name": "Python 3",
   "language": "python",
   "name": "python3"
  },
  "language_info": {
   "codemirror_mode": {
    "name": "ipython",
    "version": 3
   },
   "file_extension": ".py",
   "mimetype": "text/x-python",
   "name": "python",
   "nbconvert_exporter": "python",
   "pygments_lexer": "ipython3",
   "version": "3.3.3"
  }
 },
 "nbformat": 4,
 "nbformat_minor": 0
}
