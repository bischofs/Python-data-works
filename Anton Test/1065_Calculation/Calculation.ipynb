{
 "cells": [
  {
   "cell_type": "code",
   "execution_count": 51,
   "metadata": {
    "collapsed": false,
    "scrolled": true
   },
   "outputs": [
    {
     "name": "stdout",
     "output_type": "stream",
     "text": [
      "Initialization finished!\n"
     ]
    }
   ],
   "source": [
    "#### 1065 Calculation #####\n",
    "import pandas as pd\n",
    "import numpy as np\n",
    "import scipy as sc\n",
    "import scipy.optimize as opt\n",
    "import xlsxwriter\n",
    "\n",
    "data_raw = pd.read_csv(\"Test_data.csv\", header=2,low_memory=False)\n",
    "data_raw = data_raw.convert_objects(convert_numeric=True)\n",
    "data_un = pd.DataFrame()\n",
    "\n",
    "## Prepare constant Values\n",
    "bs = 0.00821722713286476 # Has to be calculated\n",
    "RFPF = 0.0133\n",
    "CH4_RF = 1.1\n",
    "Tchiller = 7\n",
    "Pamb = 98.0918852\n",
    "Pchiller = Pamb + 23.75\n",
    "xCO2intdry = 0.000375\n",
    "xCO2dildry = 0.000375\n",
    "xTHC_THC_FID_init = 1\n",
    "\n",
    "# Choose whether COL or COH\n",
    "species_raw = [col for col in list(data_raw) if col.startswith('E_CO')]\n",
    "if 'E_COHD2' in species_raw:\n",
    "    CO = 'E_COHD2'\n",
    "    CO_flag = 1 # CO-High\n",
    "else:\n",
    "    CO = 'E_COLD2'\n",
    "    CO_flag = 0 # CO-Low\n",
    "\n",
    "print(\"Initialization finished!\")"
   ]
  },
  {
   "cell_type": "code",
   "execution_count": 52,
   "metadata": {
    "collapsed": false
   },
   "outputs": [
    {
     "name": "stdout",
     "output_type": "stream",
     "text": [
      "First Level of Calculation finished!\n"
     ]
    }
   ],
   "source": [
    "##### First Level of Calculation #####\n",
    "data_un[\"E_CO2D2\"] = data_raw.E_CO2D2*10000\n",
    "data_un[CO] = data_raw.get(CO)*10000\n",
    "data_un[\"E_NOXD2\"] = data_raw.E_NOXD2\n",
    "data_un[\"E_THCW2\"] = data_raw.E_THCW2\n",
    "data_un[\"xCH4wet\"] = data_raw.E_CH4W2/1000000\n",
    "data_un[\"C_FRAIRWS\"] = data_raw.C_FRAIRWS\n",
    "data_un[\"BARO Press\"] = data_raw.P_INLET*100\n",
    "data_un[\"T_INLET\"] = data_raw.T_INLET\n",
    "data_un[\"M_RELHUM\"] = data_raw.M_RELHUM\n",
    "data_un[\"mfuel\"] = data_raw.M_FRFUEL*1000/3600\n",
    "print(\"First Level of Calculation finished!\")"
   ]
  },
  {
   "cell_type": "code",
   "execution_count": 53,
   "metadata": {
    "collapsed": false
   },
   "outputs": [
    {
     "name": "stdout",
     "output_type": "stream",
     "text": [
      "Second Level of Calculation finished!\n"
     ]
    }
   ],
   "source": [
    "##### Second Level of Calculation #####\n",
    "data_un[\"xCO2meas\"] = data_un.E_CO2D2/1000000\n",
    "data_un[\"xCOmeas\"] = data_un.get(CO)/1000000\n",
    "data_un[\"xNOxmeas\"] = data_un.E_NOXD2/1000000\n",
    "data_un[\"xTHCmeas\"] = data_un.E_THCW2/1000000\n",
    "data_un[\"Molar Flow Wet\"] = data_un.C_FRAIRWS*1000/3600\n",
    "data_un[\"maf_kgh (wet)\"] = data_un.C_FRAIRWS\n",
    "data_un[\"pH2O @ inlet\"] = 10**(10.79574*(1-(273.16/(273.15+data_un.T_INLET)))-5.028*np.log10((273.15+data_un.T_INLET)/273.16)+0.000150475*(1-10**(-8.2969*(((273.15+data_un.T_INLET)/273.16)-1)))+0.00042873*(10**(4.76955*(1-(273.16/(273.15+data_un.T_INLET))))-1)-0.2138602)  ## Reference: CFR 1065.564\n",
    "data_un[\"xH2O\"] = data_un.M_RELHUM*data_un.get(\"pH2O @ inlet\")/(data_un.get(\"BARO Press\")*100) ## Reference: CFR 1065.564\n",
    "data_un[\"xTHC[THC_FID]cor\"] = data_un.E_THCW2-xTHC_THC_FID_init ## Reference: CFR 1065.660\n",
    "print(\"Second Level of Calculation finished!\")"
   ]
  },
  {
   "cell_type": "code",
   "execution_count": 54,
   "metadata": {
    "collapsed": false,
    "scrolled": false
   },
   "outputs": [
    {
     "name": "stdout",
     "output_type": "stream",
     "text": [
      "Third Level of Calculation finished!\n"
     ]
    }
   ],
   "source": [
    "##### Third Level of Calculation #####\n",
    "data_un.E_THCW2 = data_un.get(\"xTHC[THC_FID]cor\") ## Reference: CFR 1065.660\n",
    "data_un[\"xNO2meas\"] = data_un.xNOxmeas*0\n",
    "data_un[\"xNOmeas\"] = data_un.xNOxmeas*1\n",
    "data_un[\"xTHCwet\"] = data_un.xTHCmeas\n",
    "data_un[\"Intake Air flow\"] = data_un.get(\"Molar Flow Wet\")/28.96\n",
    "data_un[\"Mmix\"] = 28.96559*(1-data_un.xH2O)+18.01528*data_un.xH2O\n",
    "data_un[\"xH2Oint\"] = data_un.xH2O\n",
    "data_un[\"xH2Odil\"] = data_un.xH2O\n",
    "\n",
    "# Constant Channels\n",
    "c = np.zeros((len(data_un),1))\n",
    "c.fill(3.5)\n",
    "data_un[\"xH2Ogas\"] = c\n",
    "c.fill(13.875389)\n",
    "data_un[\"Molar Mass of HC Emissions\"] = c\n",
    "c.fill(28.0101)\n",
    "data_un[\"Molar Mass of CO Emissions\"] = c\n",
    "c.fill(46.0055)\n",
    "data_un[\"Molar Mass of NOx Emissions (as NO2)\"] = c\n",
    "c.fill(44.0095)\n",
    "data_un[\"Molar Mass of CO2 Emissions\"] = c\n",
    "c.fill(13.875389)\n",
    "data_un[\"Molar Mass of NMHC Emissions\"] = c\n",
    "c.fill(0.866)\n",
    "data_un[\"Wc\"] = c\n",
    "c.fill(1.84)\n",
    "data_un['alpha'] = c\n",
    "c.fill(0)\n",
    "data_un['beta'] = c\n",
    "data_un['gamma'] = c\n",
    "data_un['delta'] = c\n",
    "c = None\n",
    "print(\"Third Level of Calculation finished!\")"
   ]
  },
  {
   "cell_type": "code",
   "execution_count": 55,
   "metadata": {
    "collapsed": false
   },
   "outputs": [
    {
     "name": "stdout",
     "output_type": "stream",
     "text": [
      "Fourth Level of Calculation finished!\n"
     ]
    }
   ],
   "source": [
    "##### Fourth Level of Calculation #####\n",
    "data_un[\"xNMHCwet\"] = (data_un.xTHCwet-data_un.xCH4wet*CH4_RF)/(1-RFPF*CH4_RF) ## Reference: CFR 1065.660\n",
    "data_un[\"nint (Intake Air Flow)\"] = data_un.get(\"Molar Flow Wet\")/data_un.Mmix\n",
    "data_un[\"xH2Ointdry\"] = data_un.xH2Oint/(1-data_un.xH2Oint)\n",
    "data_un[\"xH2Odildry\"] = data_un.xH2Odil/(1-data_un.xH2Odil)\n",
    "print(\"Fourth Level of Calculation finished!\")"
   ]
  },
  {
   "cell_type": "code",
   "execution_count": 56,
   "metadata": {
    "collapsed": false,
    "scrolled": true
   },
   "outputs": [
    {
     "name": "stdout",
     "output_type": "stream",
     "text": [
      "Fifth Level of Calculation finished!\n"
     ]
    }
   ],
   "source": [
    "##### Fifth Level of Calculation #####\n",
    "data_un[\"xCO2int\"] = xCO2intdry/(1+data_un.xH2Ointdry)\n",
    "data_un[\"xO2int\"] = ((0.20982-xCO2intdry)/(1+data_un.xH2Ointdry)) \n",
    "data_un[\"xCO2dil\"] = xCO2dildry/(1+data_un.xH2Odildry)\n",
    "print(\"Fifth Level of Calculation finished!\")"
   ]
  },
  {
   "cell_type": "code",
   "execution_count": null,
   "metadata": {
    "collapsed": false,
    "scrolled": true
   },
   "outputs": [],
   "source": [
    "##### Circle Calculation #####\n",
    "def f(variables):\n",
    "    # Channels in Formulas\n",
    "    #A = xdil/exh -- G\n",
    "    #B = xH2Oexh -- H\n",
    "    #C = xCcombdry -- I\n",
    "    #D = xH2Oexhdry -- J\n",
    "    #E = xdil/exhdry -- K\n",
    "    #F = xint/exhdry -- L\n",
    "    #G = xraw/exhdry -- M\n",
    "    #H = xH2OCOmeas -- AC\n",
    "    #I = xH2OTHCmeas -- AD\n",
    "    #J = xH2ONOxmeas -- AE\n",
    "    #K = xH2ONO2meas -- AF\n",
    "    #L = xH2OCO2meas -- AH\n",
    "    #M = xCOdry -- AI\n",
    "    #N = xTHCdry -- AJ\n",
    "    #O = xNOxdry -- AK\n",
    "    #P = xNO2dry -- AL\n",
    "    #Q = xCO2dry -- AN\n",
    "    #R = xH2dry -- AO \n",
    "    \n",
    "    # Unknown Variables\n",
    "    (A,B,C,D,E,F,G,H,I,J,K,L,M,N,O,P,Q,R) = variables\n",
    "        \n",
    "    # Known Variables\n",
    "    S = data_un.xCO2dil[i]\n",
    "    T = data_un.xCO2int[i]\n",
    "    U = data_un.alpha[i]\n",
    "    V = data_un.xH2Odil[i]\n",
    "    W = data_un.xH2Oint[i]\n",
    "    X = data_un.xO2int[i]\n",
    "    Y = data_un.beta[i]\n",
    "    Z = data_un.gamma[i]\n",
    "    AA = data_un.delta[i]\n",
    "    AB = data_un.xCOmeas[i]\n",
    "    AC = data_un.xTHCmeas[i]\n",
    "    AD = data_un.xNOxmeas[i]\n",
    "    AE = data_un.xNO2meas[i]\n",
    "    AF = data_un.xH2Ogas[i]\n",
    "    AG = data_un.xCO2meas[i]\n",
    "    \n",
    "    # Equations to solve\n",
    "    eq1 = 1-(G/(1+D))-A\n",
    "    eq2 = D/(1+D)-B\n",
    "    eq3 = Q+(M)+(N)-(S*E)-(T*F)-C\n",
    "    eq4 = ((U/2)*(C-N))+V*E+W*F-R-D \n",
    "    eq5 = A/(1-B)-E\n",
    "    eq6 = (1/(2*X))*(((U/2)-Y+2+(2*Z))*(C-N)-(M-O-(2*P)+R))-F\n",
    "    eq7 = 0.5*(((U/2)+Y+AA)*(C-N)+((2*N)+M-P+R))+F-G\n",
    "    eq8 = AB/(1-H)-M ## Reference: CFR 1065.659\n",
    "    eq10 = AC/(1-I)-N ## Reference: CFR 1065.659\n",
    "    eq11 = B-I\n",
    "    eq12 = AD/(1-J)-O ## Reference: CFR 1065.659\n",
    "    eq14 = AE/(1-K)-P ## Reference: CFR 1065.659\n",
    "    eq16 = (M*(D-V*E))/(AF*(Q-S*E))-R ## Reference: CFR 1065.659\n",
    "    eq17 = AG/(1-L)-Q ## Reference: CFR 1065.659\n",
    "    \n",
    "    if mode==0:\n",
    "        eq9 = bs-H    \n",
    "        eq13 = bs-J\n",
    "        eq15 = bs-K\n",
    "        eq18 = bs-L\n",
    "    else:\n",
    "        eq9 = B-H    \n",
    "        eq13 = B-J\n",
    "        eq15 = B-K\n",
    "        eq18 = B-L\n",
    "    \n",
    "    return [eq1,eq2,eq3,eq4,eq5,eq6,eq7,eq8,eq9,eq10,eq11,eq12,eq13,eq14,eq15,eq16,eq17,eq18]\n",
    "\n",
    "i = 0\n",
    "result_list = np.zeros((len(data_un),18))\n",
    "\n",
    "while i < len(data_un)-1:\n",
    "    i +=1  \n",
    "    g = 0.5 # First guess for iteration start\n",
    "\n",
    "    solution = opt.fsolve(f,(g,g,g,g,g,g,g,g,g,g,g,g,g,g,g,g,g,g))\n",
    "    \n",
    "    if solution[2]<bs:\n",
    "        mode = 1\n",
    "        solution = opt.fsolve(f,(g,g,g,g,g,g,g,g,g,g,g,g,g,g,g,g,g,g))\n",
    "        mode = 0\n",
    "    result_list[:][i] = solution\n",
    "\n",
    "iteration = pd.DataFrame(result_list,columns =['xdil/exh','xH2Oexh','xCcombdry','xH2Oexhdry','xdil/exhdry','xint/exhdry','xraw/exhdry','xH2OCOmeas','xH2OTHCmeas','xH2ONOxmeas','xH2ONO2meas','xH2OCO2meas','xCOdry','xTHCdry','xNOxdry','xNO2dry','xCO2dry','xH2dry'])\n",
    "data_un = pd.concat([data_un,iteration],axis=1)\n",
    "\n",
    "# Clear Variables\n",
    "mode = None\n",
    "result_list = None\n",
    "g = None\n",
    "solution = None\n",
    "iteration = None\n",
    "print(\"Circle Calculation finished!\")\n",
    "## 05/06/2015 - Anton lang, Lang@FEV.com"
   ]
  },
  {
   "cell_type": "code",
   "execution_count": 58,
   "metadata": {
    "collapsed": false,
    "scrolled": true
   },
   "outputs": [
    {
     "name": "stdout",
     "output_type": "stream",
     "text": [
      "Uncorrected Calculation finished!\n"
     ]
    }
   ],
   "source": [
    "##### Calculation of remaining values #####\n",
    "data_un[\"xH2ONOmeas\"] = data_un.xH2ONO2meas\n",
    "data_un[\"xNOdry\"] = data_un.xNOmeas/(1-data_un.xH2ONOmeas) ## Reference: CFR 1065.659\n",
    "data_un[\"xCO2dry\"] = data_un.xCO2meas/(1-data_un.xH2OCO2meas) ## Reference: CFR 1065.659\n",
    "data_un[\"xH2dry\"] = (data_un.xCOdry*(data_un.xH2Oexhdry-data_un.xH2Odil*data_un.get(\"xdil/exhdry\")))/(data_un.xH2Ogas*(data_un.xCO2dry-data_un.xCO2dil*data_un.get(\"xdil/exhdry\")))\n",
    "data_un[\"xCOwet\"] = data_un.xCOmeas*((1-data_un.xH2Oexh)/(1-data_un.xH2OCOmeas))\n",
    "data_un['xNOxwet'] = data_un.xNOxmeas*((1-data_un.xH2Oexh)/(1-data_un.xH2ONOxmeas))\n",
    "data_un[\"xNO2wet\"] = data_un.xNO2meas*((1-data_un.xH2Oexh)/(1-data_un.xH2ONO2meas))\n",
    "data_un[\"xNOwet\"] = data_un.xNOmeas*((1-data_un.xH2Oexh)/(1-data_un.xH2ONOmeas))\n",
    "data_un[\"xCO2wet\"] = data_un.xCO2meas*((1-data_un.xH2Oexh)/(1-data_un.xH2OCO2meas))\n",
    "data_un[\"xNOxcorrwet\"] = data_un.xNOxwet*(18.84 *data_un.xH2O + 0.68094) ## Reference: CFR 1065.670\n",
    "\n",
    "data_un[\"nexh\"] = data_un.get(\"nint (Intake Air Flow)\")/(1+((data_un.get(\"xint/exhdry\")-data_un.get(\"xraw/exhdry\"))/(1+data_un.xH2Oexhdry)))\n",
    "data_un[\"Mass_THC\"] = data_un.xTHCwet*data_un.nexh*data_un.get(\"Molar Mass of HC Emissions\")\n",
    "data_un[\"Mass_CO\"] = data_un.xCOwet*data_un.nexh*data_un.get(\"Molar Mass of CO Emissions\")\n",
    "data_un[\"Mass_NOx\"] = data_un.xNOxcorrwet*data_un.nexh*data_un.get(\"Molar Mass of NOx Emissions (as NO2)\")\n",
    "data_un[\"Mass_CO2\"] = data_un.xCO2wet*data_un.nexh*data_un.get(\"Molar Mass of CO2 Emissions\")\n",
    "data_un[\"Mass_NMHC\"] = data_un.xNMHCwet*data_un.nexh*data_un.get(\"Molar Mass of NMHC Emissions\")\n",
    "\n",
    "# Emissions in total\n",
    "sum_THC_un = data_un.Mass_THC.sum(skipna = True)\n",
    "sum_CO_un = data_un.Mass_CO.sum(skipna = True)\n",
    "sum_NOx_un = data_un.Mass_NOx.sum(skipna=True)\n",
    "sum_CO2_un = data_un.Mass_CO2.sum(skipna=True)\n",
    "sum_NMHC_un = data_un.Mass_NMHC.sum(skipna=True)\n",
    "array_sum_un = [sum_CO2_un,sum_CO_un,sum_NOx_un,sum_THC_un,sum_NMHC_un]\n",
    "print(\"Uncorrected Calculation finished!\")"
   ]
  },
  {
   "cell_type": "code",
   "execution_count": 75,
   "metadata": {
    "collapsed": false
   },
   "outputs": [],
   "source": [
    "###############################################################\n",
    "##################### Drift Correction ########################\n",
    "###############################################################"
   ]
  },
  {
   "cell_type": "code",
   "execution_count": 78,
   "metadata": {
    "collapsed": false
   },
   "outputs": [
    {
     "name": "stdout",
     "output_type": "stream",
     "text": [
      "Data Load finished!\n"
     ]
    }
   ],
   "source": [
    "##### Load Pre/Post - Files #####\n",
    "data_pre = pd.read_csv(\"Pre_zero_span.csv\", low_memory=False)\n",
    "data_pre = data_pre.convert_objects(convert_numeric=True)\n",
    "data_post = pd.read_csv(\"Post_zero_span.csv\", low_memory=False)\n",
    "data_post = data_post.convert_objects(convert_numeric=True)\n",
    "data_cor = pd.DataFrame()\n",
    "data_raw2 = data_raw\n",
    "\n",
    "species_pre = [col for col in list(data_pre) if col.startswith('E_')]\n",
    "\n",
    "zero_span = pd.DataFrame(data=np.zeros([5,5]),index=['PreZero','PreSpan','PostZero','PostSpan','Chosen'],columns=['E_CO2D2',CO,'E_NOXD2','E_THCW2','E_CH4W2'])\n",
    "print('Data Load finished!')"
   ]
  },
  {
   "cell_type": "code",
   "execution_count": 60,
   "metadata": {
    "collapsed": false
   },
   "outputs": [
    {
     "name": "stdout",
     "output_type": "stream",
     "text": [
      "Pre-Zero/Span is finished!\n"
     ]
    }
   ],
   "source": [
    "##### Pre-File #####\n",
    "zero_data = data_pre.loc[59, species_pre[0]:species_pre[-1]]\n",
    "span_data = data_pre.loc[121, species_pre[0]:species_pre[-1]]\n",
    "\n",
    "## Zero -  Data ##\n",
    "zero_span.E_CO2D2['PreZero'] = abs(zero_data.E_CO2D2+0) * 10000\n",
    "zero_span[CO]['PreZero'] = abs(zero_data.get(CO)+0) * 10000\n",
    "zero_span.E_NOXD2['PreZero'] = abs(zero_data.E_NOXD2+0)\n",
    "zero_span.E_THCW2['PreZero'] = abs(zero_data.E_THCW2+0)\n",
    "\n",
    "## Span - Data ##\n",
    "zero_span.E_CO2D2['PreSpan'] = abs(data_pre.E_CO2D2.iloc[-1]+0) * 10000\n",
    "zero_span[CO]['PreSpan'] = abs(span_data.get(CO)+0) * 10000\n",
    "zero_span.E_NOXD2['PreSpan'] = abs(span_data.E_NOXD2+0)\n",
    "zero_span.E_THCW2['PreSpan'] = abs(span_data.E_THCW2+0)\n",
    "zero_span.E_CH4W2['PreSpan'] = abs(data_pre.E_THCW2.iloc[-1]+0)\n",
    "print('Pre-Zero/Span is finished!')"
   ]
  },
  {
   "cell_type": "code",
   "execution_count": 203,
   "metadata": {
    "collapsed": false
   },
   "outputs": [
    {
     "data": {
      "text/plain": [
       "0.34890909090909089"
      ]
     },
     "execution_count": 203,
     "metadata": {},
     "output_type": "execute_result"
    }
   ],
   "source": [
    "b = data_pre.loc[1:60, species_pre[1]]\n",
    "\n",
    "for i in range(1,len(b)):\n",
    "    if b[i]< 0.3:\n",
    "        b = b.drop(i)\n",
    "        \n",
    "b.mean()"
   ]
  },
  {
   "cell_type": "code",
   "execution_count": 209,
   "metadata": {
    "collapsed": false
   },
   "outputs": [
    {
     "data": {
      "text/plain": [
       "'PreZero'"
      ]
     },
     "execution_count": 209,
     "metadata": {},
     "output_type": "execute_result"
    }
   ],
   "source": [
    "zero_span = pd.DataFrame(data=np.zeros([5,5]),index=['PreZero','PreSpan','PostZero','PostSpan','Chosen'],columns=species)\n",
    "zero_span\n",
    "name = {'Zero':'PreZero','Span':'PreSpan'}\n",
    "name['Zero']"
   ]
  },
  {
   "cell_type": "code",
   "execution_count": 190,
   "metadata": {
    "collapsed": false
   },
   "outputs": [
    {
     "data": {
      "text/plain": [
       "59.0"
      ]
     },
     "execution_count": 190,
     "metadata": {},
     "output_type": "execute_result"
    }
   ],
   "source": [
    "        Species = ['CO2','CO','NOX','THC','CH4'] #these are the species in the array but with different names\n",
    "\n",
    "        TypeTime = ['Zero_start','Zero_end','Span_start','Span_end']\n",
    "        SpecTime = [0,59,60,119] # Time window for Zero and Span Data\n",
    "        time_window = pd.DataFrame(data = np.ones([4,5]), columns=Species, index=TypeTime)\n",
    "        for time_point, spec_time in zip(type_time,SpecTime):\n",
    "            time_window.loc[time_point,:] = spec_time\n",
    "            \n",
    "        time_window[Species[0]]['Span_start'] = 120\n",
    "        time_window[Species[0]]['Span_end'] = 179\n",
    "        time_window[Species[4]]['Span_start'] = 120\n",
    "        time_window[Species[4]]['Span_end'] = 179\n",
    "        \n",
    "time_window['CO2'][1]"
   ]
  },
  {
   "cell_type": "code",
   "execution_count": 61,
   "metadata": {
    "collapsed": false
   },
   "outputs": [
    {
     "name": "stdout",
     "output_type": "stream",
     "text": [
      "Post-Zero/Span is finished!\n"
     ]
    }
   ],
   "source": [
    "##### Post-File #####\n",
    "zero_data = data_post.loc[59, species_pre[0]:species_pre[-1]]\n",
    "span_data = data_post.loc[120, species_pre[0]:species_pre[-1]]\n",
    "\n",
    "## Zero -  Data ##\n",
    "zero_span.E_CO2D2['PostZero'] = abs(zero_data.E_CO2D2+0) * 10000\n",
    "zero_span[CO]['PostZero'] = abs(zero_data.get(CO)+0) * 10000\n",
    "zero_span.E_NOXD2['PostZero'] = abs(zero_data.E_NOXD2+0)\n",
    "zero_span.E_THCW2['PostZero'] = abs(zero_data.E_THCW2+0)\n",
    "zero_span.E_CH4W2['PostZero'] = abs(zero_data.E_THCW2+0)\n",
    "\n",
    "## Span - Data ##\n",
    "zero_span.E_CO2D2['PostSpan'] = abs(data_post.E_CO2D2.iloc[-1]+0) * 10000\n",
    "zero_span[CO]['PostSpan'] = abs(span_data.get(CO)+0) * 10000\n",
    "zero_span.E_NOXD2['PostSpan'] = abs(span_data.E_NOXD2+0)\n",
    "zero_span.E_THCW2['PostSpan'] = abs(span_data.E_THCW2+0)\n",
    "zero_span.E_CH4W2['PostSpan'] = abs(data_post.E_THCW2.iloc[-1]+0)\n",
    "\n",
    "## Chosen Values - From Database (Tanks)\n",
    "zero_span.E_CO2D2['Chosen'] = 191000\n",
    "zero_span[CO]['Chosen'] = 58700\n",
    "zero_span.E_NOXD2['Chosen'] = 4005\n",
    "zero_span.E_THCW2['Chosen'] = 9900\n",
    "zero_span.E_CH4W2['Chosen'] = 2510\n",
    "print('Post-Zero/Span is finished!')"
   ]
  },
  {
   "cell_type": "code",
   "execution_count": 62,
   "metadata": {
    "collapsed": false
   },
   "outputs": [
    {
     "data": {
      "text/plain": [
       "0.5"
      ]
     },
     "execution_count": 62,
     "metadata": {},
     "output_type": "execute_result"
    }
   ],
   "source": [
    "zero_span.E_NOXD2['PreZero']\n"
   ]
  },
  {
   "cell_type": "code",
   "execution_count": 79,
   "metadata": {
    "collapsed": false
   },
   "outputs": [],
   "source": [
    "######### TEST #############\n",
    "zero_data = data_pre.loc[59,species_pre[0]:species_pre[-1]]\n",
    "span_data = data_pre.loc[120,species_pre[0]:species_pre[-1]]\n",
    "## Zero -  Data ##\n",
    "zero_span.E_CO2D2['PreZero'] = 0\n",
    "zero_span[CO]['PreZero'] = 0\n",
    "zero_span.E_NOXD2['PreZero'] = 0.412\n",
    "zero_span.E_THCW2['PreZero'] = 0.254\n",
    "\n",
    "## Span - Data ##\n",
    "zero_span.E_CO2D2['PreSpan'] = 190030\n",
    "zero_span[CO]['PreSpan'] = 58700\n",
    "zero_span.E_NOXD2['PreSpan'] = 4003.95\n",
    "zero_span.E_THCW2['PreSpan'] = 9899.89\n",
    "zero_span.E_CH4W2['PreSpan'] = 2654.17\n",
    "\n",
    "zero_data = data_post.loc[59,species_pre[0]:species_pre[-1]]\n",
    "span_data = data_post.loc[120,species_pre[0]:species_pre[-1]]\n",
    "## Zero -  Data ##\n",
    "zero_span.E_CO2D2['PostZero'] = 50\n",
    "zero_span[CO]['PostZero'] = 0\n",
    "zero_span.E_NOXD2['PostZero'] = 0.914\n",
    "zero_span.E_THCW2['PostZero'] = 0.074\n",
    "zero_span.E_CH4W2['PostZero'] = 0.074\n",
    "\n",
    "## Span - Data ##\n",
    "zero_span.E_CO2D2['PostSpan'] = 190400\n",
    "zero_span[CO]['PostSpan'] = 58850\n",
    "zero_span.E_NOXD2['PostSpan'] = 4000.1\n",
    "zero_span.E_THCW2['PostSpan'] = 9890.16\n",
    "zero_span.E_CH4W2['PostSpan'] = 2651.84"
   ]
  },
  {
   "cell_type": "code",
   "execution_count": 63,
   "metadata": {
    "collapsed": false
   },
   "outputs": [
    {
     "name": "stdout",
     "output_type": "stream",
     "text": [
      "Raw Emissions drift-corrected!\n"
     ]
    }
   ],
   "source": [
    "## Correct Raw-Emissions ##\n",
    "data_raw2['E_CO2D2'] = zero_span.E_CO2D2['Chosen']*((2*data_un.E_CO2D2)-(zero_span.E_CO2D2['PreZero']+zero_span.E_CO2D2['PostZero']))/((zero_span.E_CO2D2['PreSpan']+zero_span.E_CO2D2['PostSpan'])-(zero_span.E_CO2D2['PreZero']+zero_span.E_CO2D2['PostZero']))\n",
    "data_raw2[CO] = zero_span[CO]['Chosen']*((2*data_un.get(CO))-(zero_span[CO]['PreZero']+zero_span[CO]['PostZero']))/((zero_span[CO]['PreSpan']+zero_span[CO]['PostSpan'])-(zero_span[CO]['PreZero']+zero_span[CO]['PostZero']))\n",
    "data_raw2['E_NOXD2'] = zero_span.E_NOXD2['Chosen']*((2*data_un.E_NOXD2)-(zero_span.E_NOXD2['PreZero']+zero_span.E_NOXD2['PostZero']))/((zero_span.E_NOXD2['PreSpan']+zero_span.E_NOXD2['PostSpan'])-(zero_span.E_NOXD2['PreZero']+zero_span.E_NOXD2['PostZero']))\n",
    "data_raw2['E_THCW2'] = zero_span.E_THCW2['Chosen']*((2*data_un.E_THCW2)-(zero_span.E_THCW2['PreZero']+zero_span.E_THCW2['PostZero']))/((zero_span.E_THCW2['PreSpan']+zero_span.E_THCW2['PostSpan'])-(zero_span.E_THCW2['PreZero']+zero_span.E_THCW2['PostZero']))\n",
    "data_raw2['E_CH4W2'] = zero_span.E_CH4W2['Chosen']*((2*data_raw.E_CH4W2)-(zero_span.E_CH4W2['PreZero']+zero_span.E_CH4W2['PostZero']))/((zero_span.E_CH4W2['PreSpan']+zero_span.E_CH4W2['PostSpan'])-(zero_span.E_CH4W2['PreZero']+zero_span.E_CH4W2['PostZero']))\n",
    "print('Raw Emissions drift-corrected!')"
   ]
  },
  {
   "cell_type": "code",
   "execution_count": 64,
   "metadata": {
    "collapsed": false
   },
   "outputs": [
    {
     "name": "stdout",
     "output_type": "stream",
     "text": [
      "First Level of Calculation finished!\n"
     ]
    }
   ],
   "source": [
    "##### First Level of Calculation #####\n",
    "data_cor[\"E_CO2D2\"] = data_raw2.E_CO2D2\n",
    "data_cor[CO] = data_raw2.get(CO)\n",
    "data_cor[\"E_NOXD2\"] = data_raw2.E_NOXD2\n",
    "data_cor[\"E_THCW2\"] = data_raw2.E_THCW2\n",
    "data_cor[\"xCH4wet\"] = data_raw2.E_CH4W2/1000000 # ppm --> mol/mol\n",
    "data_cor[\"C_FRAIRWS\"] = data_raw2.C_FRAIRWS\n",
    "data_cor[\"BARO Press\"] = data_raw2.P_INLET*100 # in kPa\n",
    "data_cor[\"T_INLET\"] = data_raw2.T_INLET\n",
    "data_cor[\"M_RELHUM\"] = data_raw2.M_RELHUM\n",
    "data_cor[\"mfuel\"] = data_raw2.M_FRFUEL*1000/3600 # kg/h --> g/s\n",
    "print(\"First Level of Calculation finished!\")"
   ]
  },
  {
   "cell_type": "code",
   "execution_count": 65,
   "metadata": {
    "collapsed": false
   },
   "outputs": [
    {
     "name": "stdout",
     "output_type": "stream",
     "text": [
      "Second Level of Calculation finished!\n"
     ]
    }
   ],
   "source": [
    "##### Second Level of Calculation #####\n",
    "data_cor[\"xCO2meas\"] = data_cor.E_CO2D2/1000000 # ppm --> mol/mol\n",
    "data_cor[\"xCOmeas\"] = data_cor.get(CO)/1000000 # ppm --> mol/mol\n",
    "data_cor[\"xNOxmeas\"] = data_cor.E_NOXD2/1000000 # ppm --> mol/mol\n",
    "data_cor[\"xTHCmeas\"] = data_cor.E_THCW2/1000000 # ppm --> mol/mol\n",
    "data_cor[\"Molar Flow Wet\"] = data_cor.C_FRAIRWS*1000/3600 # kg/h --> g/s\n",
    "data_cor[\"maf_kgh (wet)\"] = data_cor.C_FRAIRWS\n",
    "data_cor[\"pH2O @ inlet\"] = 10**(10.79574*(1-(273.16/(273.15+data_cor.T_INLET)))-5.028*np.log10((273.15+data_cor.T_INLET)/273.16)+0.000150475*(1-10**(-8.2969*(((273.15+data_cor.T_INLET)/273.16)-1)))+0.00042873*(10**(4.76955*(1-(273.16/(273.15+data_cor.T_INLET))))-1)-0.2138602)\n",
    "data_cor[\"xH2O\"] = data_cor.M_RELHUM*data_cor.get(\"pH2O @ inlet\")/(data_cor.get(\"BARO Press\")*100)\n",
    "data_cor[\"xTHC[THC_FID]cor\"] = data_cor.E_THCW2-xTHC_THC_FID_init\n",
    "print(\"Second Level of Calculation finished!\")"
   ]
  },
  {
   "cell_type": "code",
   "execution_count": 66,
   "metadata": {
    "collapsed": false
   },
   "outputs": [
    {
     "name": "stdout",
     "output_type": "stream",
     "text": [
      "Third Level of Calculation finished!\n"
     ]
    }
   ],
   "source": [
    "##### Third Level of Calculation #####\n",
    "data_cor[\"xNO2meas\"] = data_cor.xNOxmeas*0\n",
    "data_cor[\"xNOmeas\"] = data_cor.xNOxmeas*1\n",
    "data_cor[\"xTHCwet\"] = data_cor.xTHCmeas\n",
    "data_cor[\"Intake Air flow\"] = data_cor.get(\"Molar Flow Wet\")/28.96 # g/sec --> mol/sec\n",
    "data_cor[\"Mmix\"] = 28.96559*(1-data_cor.xH2O)+18.01528*data_cor.xH2O\n",
    "data_cor[\"xH2Oint\"] = data_cor.xH2O\n",
    "data_cor[\"xH2Odil\"] = data_cor.xH2O\n",
    "\n",
    "# Constant Channels\n",
    "c = np.zeros((len(data_cor),1))\n",
    "c.fill(3.5)\n",
    "data_cor[\"xH2Ogas\"] = c\n",
    "c.fill(13.875389)\n",
    "data_cor[\"Molar Mass of HC Emissions\"] = c\n",
    "c.fill(28.0101)\n",
    "data_cor[\"Molar Mass of CO Emissions\"] = c\n",
    "c.fill(46.0055)\n",
    "data_cor[\"Molar Mass of NOx Emissions (as NO2)\"] = c\n",
    "c.fill(44.0095)\n",
    "data_cor[\"Molar Mass of CO2 Emissions\"] = c\n",
    "c.fill(13.875389)\n",
    "data_cor[\"Molar Mass of NMHC Emissions\"] = c\n",
    "\n",
    "# Fuel Specs\n",
    "c.fill(0.866)\n",
    "data_cor[\"Wc\"] = c\n",
    "c.fill(1.84)\n",
    "data_cor['alpha'] = c\n",
    "c.fill(0)\n",
    "data_cor['beta'] = c\n",
    "data_cor['gamma'] = c\n",
    "data_cor['delta'] = c\n",
    "c = None\n",
    "print(\"Third Level of Calculation finished!\")"
   ]
  },
  {
   "cell_type": "code",
   "execution_count": 67,
   "metadata": {
    "collapsed": false
   },
   "outputs": [
    {
     "name": "stdout",
     "output_type": "stream",
     "text": [
      "Fourth Level of Calculation finished!\n"
     ]
    }
   ],
   "source": [
    "##### Fourth Level of Calculation #####\n",
    "data_cor[\"xNMHCwet\"] = (data_cor.xTHCwet-data_cor.xCH4wet*CH4_RF)/(1-RFPF*CH4_RF)\n",
    "data_cor[\"nint (Intake Air Flow)\"] = data_cor.get(\"Molar Flow Wet\")/data_cor.Mmix\n",
    "data_cor[\"xH2Ointdry\"] = data_cor.xH2Oint/(1-data_cor.xH2Oint)\n",
    "data_cor[\"xH2Odildry\"] = data_cor.xH2Odil/(1-data_cor.xH2Odil)\n",
    "print(\"Fourth Level of Calculation finished!\")"
   ]
  },
  {
   "cell_type": "code",
   "execution_count": 68,
   "metadata": {
    "collapsed": false
   },
   "outputs": [
    {
     "name": "stdout",
     "output_type": "stream",
     "text": [
      "Fifth Level of Calculation finished!\n"
     ]
    }
   ],
   "source": [
    "##### Fifth Level of Calculation #####\n",
    "data_cor[\"xCO2int\"] = xCO2intdry/(1+data_cor.xH2Ointdry)\n",
    "data_cor[\"xO2int\"] = ((0.20982-xCO2intdry)/(1+data_cor.xH2Ointdry)) \n",
    "data_cor[\"xCO2dil\"] = xCO2dildry/(1+data_cor.xH2Odildry)\n",
    "print(\"Fifth Level of Calculation finished!\")"
   ]
  },
  {
   "cell_type": "code",
   "execution_count": 69,
   "metadata": {
    "collapsed": false
   },
   "outputs": [
    {
     "name": "stdout",
     "output_type": "stream",
     "text": [
      "Circle Calculation finished!\n"
     ]
    }
   ],
   "source": [
    "##### Circle Calculation #####\n",
    "def f(variables):    \n",
    "    # Unknown Variables\n",
    "    (A,B,C,D,E,F,G,H,I,J,K,L,M,N,O,P,Q,R) = variables\n",
    "        \n",
    "    # Known Variables\n",
    "    S = data_cor.xCO2dil[i]\n",
    "    T = data_cor.xCO2int[i]\n",
    "    U = data_cor.alpha[i]\n",
    "    V = data_cor.xH2Odil[i]\n",
    "    W = data_cor.xH2Oint[i]\n",
    "    X = data_cor.xO2int[i]\n",
    "    Y = data_cor.beta[i]\n",
    "    Z = data_cor.gamma[i]\n",
    "    AA = data_cor.delta[i]\n",
    "    AB = data_cor.xCOmeas[i]\n",
    "    AC = data_cor.xTHCmeas[i]\n",
    "    AD = data_cor.xNOxmeas[i]\n",
    "    AE = data_cor.xNO2meas[i]\n",
    "    AF = data_cor.xH2Ogas[i]\n",
    "    AG = data_cor.xCO2meas[i]\n",
    "    \n",
    "    # Equations to solve\n",
    "    eq1 = 1-(G/(1+D))-A\n",
    "    eq2 = D/(1+D)-B\n",
    "    eq3 = Q+(M)+(N)-(S*E)-(T*F)-C\n",
    "    eq4 = ((U/2)*(C-N))+V*E+W*F-R-D \n",
    "    eq5 = A/(1-B)-E\n",
    "    eq6 = (1/(2*X))*(((U/2)-Y+2+(2*Z))*(C-N)-(M-O-(2*P)+R))-F\n",
    "    eq7 = 0.5*(((U/2)+Y+AA)*(C-N)+((2*N)+M-P+R))+F-G\n",
    "    eq8 = AB/(1-H)-M    \n",
    "    eq10 = AC/(1-I)-N\n",
    "    eq11 = B-I\n",
    "    eq12 = AD/(1-J)-O    \n",
    "    eq14 = AE/(1-K)-P    \n",
    "    eq16 = (M*(D-V*E))/(AF*(Q-S*E))-R\n",
    "    eq17 = AG/(1-L)-Q\n",
    "    \n",
    "    if mode==0:\n",
    "        eq9 = bs-H    \n",
    "        eq13 = bs-J\n",
    "        eq15 = bs-K\n",
    "        eq18 = bs-L\n",
    "    else:\n",
    "        eq9 = B-H    \n",
    "        eq13 = B-J\n",
    "        eq15 = B-K\n",
    "        eq18 = B-L\n",
    "    \n",
    "    return [eq1,eq2,eq3,eq4,eq5,eq6,eq7,eq8,eq9,eq10,eq11,eq12,eq13,eq14,eq15,eq16,eq17,eq18]\n",
    "\n",
    "i = 0\n",
    "mode = 0\n",
    "result_list = np.zeros((len(data_cor),18))\n",
    "\n",
    "while i < len(data_cor)-1:\n",
    "    i +=1  \n",
    "    g = 0.5 # First guess for iteration start\n",
    "\n",
    "    solution = opt.fsolve(f,(g,g,g,g,g,g,g,g,g,g,g,g,g,g,g,g,g,g))\n",
    "    \n",
    "    if solution[2]<bs:\n",
    "        mode = 1\n",
    "        solution = opt.fsolve(f,(g,g,g,g,g,g,g,g,g,g,g,g,g,g,g,g,g,g))\n",
    "        mode = 0\n",
    "    result_list[:][i] = solution\n",
    "\n",
    "iteration = pd.DataFrame(result_list,columns =['xdil/exh','xH2Oexh','xCcombdry','xH2Oexhdry','xdil/exhdry','xint/exhdry','xraw/exhdry','xH2OCOmeas','xH2OTHCmeas','xH2ONOxmeas','xH2ONO2meas','xH2OCO2meas','xCOdry','xTHCdry','xNOxdry','xNO2dry','xCO2dry','xH2dry'])\n",
    "data_cor = pd.concat([data_cor,iteration],axis=1)\n",
    "\n",
    "# Clear Variables\n",
    "mode = None\n",
    "result_list = None\n",
    "g = None\n",
    "solution = None\n",
    "iteration = None\n",
    "print(\"Circle Calculation finished!\")"
   ]
  },
  {
   "cell_type": "code",
   "execution_count": 72,
   "metadata": {
    "collapsed": false
   },
   "outputs": [
    {
     "name": "stdout",
     "output_type": "stream",
     "text": [
      "Drift-corrected Calculation finished!\n"
     ]
    },
    {
     "name": "stderr",
     "output_type": "stream",
     "text": [
      "/usr/local/lib/python3.3/dist-packages/IPython/kernel/__main__.py:41: SettingWithCopyWarning: \n",
      "A value is trying to be set on a copy of a slice from a DataFrame\n",
      "\n",
      "See the the caveats in the documentation: http://pandas.pydata.org/pandas-docs/stable/indexing.html#indexing-view-versus-copy\n"
     ]
    }
   ],
   "source": [
    "##### Calculation of remaining values #####\n",
    "data_cor[\"xH2ONOmeas\"] = data_cor.xH2ONO2meas\n",
    "data_cor[\"xNOdry\"] = data_cor.xNOmeas/(1-data_cor.xH2ONOmeas)\n",
    "data_cor[\"xCO2dry\"] = data_cor.xCO2meas/(1-data_cor.xH2OCO2meas)\n",
    "data_cor[\"xH2dry\"] = (data_cor.xCOdry*(data_cor.xH2Oexhdry-data_cor.xH2Odil*data_cor.get(\"xdil/exhdry\")))/(data_cor.xH2Ogas*(data_cor.xCO2dry-data_cor.xCO2dil*data_cor.get(\"xdil/exhdry\")))\n",
    "data_cor[\"xCOwet\"] = data_cor.xCOmeas*((1-data_cor.xH2Oexh)/(1-data_cor.xH2OCOmeas))\n",
    "data_cor['xNOxwet'] = data_cor.xNOxmeas*((1-data_cor.xH2Oexh)/(1-data_cor.xH2ONOxmeas))\n",
    "data_cor[\"xNO2wet\"] = data_cor.xNO2meas*((1-data_cor.xH2Oexh)/(1-data_cor.xH2ONO2meas))\n",
    "data_cor[\"xNOwet\"] = data_cor.xNOmeas*((1-data_cor.xH2Oexh)/(1-data_cor.xH2ONOmeas))\n",
    "data_cor[\"xCO2wet\"] = data_cor.xCO2meas*((1-data_cor.xH2Oexh)/(1-data_cor.xH2OCO2meas))\n",
    "data_cor[\"xNOxcorrwet\"] = data_cor.xNOxwet*(18.84 *data_cor.xH2O + 0.68094)\n",
    "\n",
    "data_cor[\"nexh\"] = data_cor.get(\"nint (Intake Air Flow)\")/(1+((data_cor.get(\"xint/exhdry\")-data_cor.get(\"xraw/exhdry\"))/(1+data_cor.xH2Oexhdry)))\n",
    "data_cor[\"Mass_THC\"] = data_cor.xTHCwet*data_cor.nexh*data_cor.get(\"Molar Mass of HC Emissions\")\n",
    "data_cor[\"Mass_CO\"] = data_cor.xCOwet*data_cor.nexh*data_cor.get(\"Molar Mass of CO Emissions\")\n",
    "data_cor[\"Mass_NOx\"] = data_cor.xNOxcorrwet*data_cor.nexh*data_cor.get(\"Molar Mass of NOx Emissions (as NO2)\")\n",
    "data_cor[\"Mass_CO2\"] = data_cor.xCO2wet*data_cor.nexh*data_cor.get(\"Molar Mass of CO2 Emissions\")\n",
    "data_cor[\"Mass_NMHC\"] = data_cor.xNMHCwet*data_cor.nexh*data_cor.get(\"Molar Mass of NMHC Emissions\")\n",
    "\n",
    "# Emissions in total\n",
    "sum_THC_cor = data_cor.Mass_THC.sum(skipna = True)\n",
    "sum_CO_cor = data_cor.Mass_CO.sum(skipna = True)\n",
    "sum_NOx_cor = data_cor.Mass_NOx.sum(skipna=True)\n",
    "sum_CO2_cor = data_cor.Mass_CO2.sum(skipna=True)\n",
    "sum_NMHC_cor = data_cor.Mass_NMHC.sum(skipna=True)\n",
    "array_sum_cor = [sum_CO2_cor,sum_CO_cor,sum_NOx_cor,sum_THC_cor,sum_NMHC_cor]\n",
    "\n",
    "# Emissions in total (Negative Values removed)\n",
    "for i in range(1,len(data_cor)):\n",
    "    if data_cor.Mass_THC[i]<0:\n",
    "        data_cor.Mass_THC[i] = 0\n",
    "    if data_cor.Mass_CO.ix[i]<0:\n",
    "        data_cor.Mass_CO.ix[i] = 0\n",
    "    if data_cor.Mass_NOx.ix[i]<0:\n",
    "        data_cor.Mass_NOx.ix[i] = 0\n",
    "    if data_cor.Mass_CO2.ix[i]<0:        \n",
    "        data_cor.Mass_CO2.ix[i] = 0\n",
    "    if data_cor.Mass_NMHC.ix[i]<0:\n",
    "        data_cor.Mass_NMHC.ix[i] = 0\n",
    "    if data_raw.U_BPOW[i]<0:\n",
    "        data_raw.U_BPOW[i] = 0\n",
    "U_BPOW_Factor = data_raw.U_BPOW.sum(skipna=True)/(3600*0.746)\n",
    "sum_THC_cor_won = data_cor.Mass_THC.sum(skipna=True)\n",
    "sum_CO_cor_won = data_cor.Mass_CO.sum(skipna = True)\n",
    "sum_NOx_cor_won = data_cor.Mass_NOx.sum(skipna=True)\n",
    "sum_CO2_cor_won = data_cor.Mass_CO2.sum(skipna=True)\n",
    "sum_NMHC_cor_won = data_cor.Mass_NMHC.sum(skipna=True)\n",
    "array_sum_cor_won = [sum_CO2_cor_won,sum_CO_cor_won,sum_NOx_cor_won,sum_THC_cor_won,sum_NMHC_cor_won]\n",
    "print(\"Drift-corrected Calculation finished!\")"
   ]
  },
  {
   "cell_type": "code",
   "execution_count": 70,
   "metadata": {
    "collapsed": false
   },
   "outputs": [
    {
     "ename": "NameError",
     "evalue": "name 'sum_CO2_cor_won' is not defined",
     "output_type": "error",
     "traceback": [
      "\u001b[1;31m---------------------------------------------------------------------------\u001b[0m",
      "\u001b[1;31mNameError\u001b[0m                                 Traceback (most recent call last)",
      "\u001b[1;32m<ipython-input-70-603d12fe873d>\u001b[0m in \u001b[0;36m<module>\u001b[1;34m()\u001b[0m\n\u001b[0;32m      3\u001b[0m \u001b[0mfinal\u001b[0m\u001b[1;33m[\u001b[0m\u001b[1;34m'Species'\u001b[0m\u001b[1;33m]\u001b[0m \u001b[1;33m=\u001b[0m \u001b[1;33m[\u001b[0m\u001b[1;34m'CO2'\u001b[0m\u001b[1;33m,\u001b[0m\u001b[1;34m'CO'\u001b[0m\u001b[1;33m,\u001b[0m\u001b[1;34m'NOx'\u001b[0m\u001b[1;33m,\u001b[0m\u001b[1;34m'THC'\u001b[0m\u001b[1;33m,\u001b[0m\u001b[1;34m'NMHC'\u001b[0m\u001b[1;33m]\u001b[0m\u001b[1;33m\u001b[0m\u001b[0m\n\u001b[0;32m      4\u001b[0m \u001b[0mfinal\u001b[0m\u001b[1;33m[\u001b[0m\u001b[1;34m'Units'\u001b[0m\u001b[1;33m]\u001b[0m \u001b[1;33m=\u001b[0m \u001b[1;33m[\u001b[0m\u001b[1;34m'g/ghphr'\u001b[0m\u001b[1;33m,\u001b[0m\u001b[1;34m'g/ghphr'\u001b[0m\u001b[1;33m,\u001b[0m\u001b[1;34m'g/ghphr'\u001b[0m\u001b[1;33m,\u001b[0m\u001b[1;34m'g/ghphr'\u001b[0m\u001b[1;33m,\u001b[0m\u001b[1;34m'g/ghphr'\u001b[0m\u001b[1;33m]\u001b[0m\u001b[1;33m\u001b[0m\u001b[0m\n\u001b[1;32m----> 5\u001b[1;33m \u001b[0mCO2\u001b[0m \u001b[1;33m=\u001b[0m \u001b[0msum_CO2_cor_won\u001b[0m\u001b[1;33m/\u001b[0m\u001b[0mU_BPOW_Factor\u001b[0m\u001b[1;33m\u001b[0m\u001b[0m\n\u001b[0m\u001b[0;32m      6\u001b[0m \u001b[0mCO\u001b[0m \u001b[1;33m=\u001b[0m \u001b[0msum_CO_cor_won\u001b[0m\u001b[1;33m/\u001b[0m\u001b[0mU_BPOW_Factor\u001b[0m\u001b[1;33m\u001b[0m\u001b[0m\n\u001b[0;32m      7\u001b[0m \u001b[0mNOx\u001b[0m \u001b[1;33m=\u001b[0m \u001b[0msum_NOx_cor_won\u001b[0m\u001b[1;33m/\u001b[0m\u001b[0mU_BPOW_Factor\u001b[0m\u001b[1;33m\u001b[0m\u001b[0m\n",
      "\u001b[1;31mNameError\u001b[0m: name 'sum_CO2_cor_won' is not defined"
     ]
    }
   ],
   "source": [
    "##### Final Report ######\n",
    "final = pd.DataFrame()\n",
    "final['Species'] = ['CO2','CO','NOx','THC','NMHC']\n",
    "final['Units'] = ['g/ghphr','g/ghphr','g/ghphr','g/ghphr','g/ghphr']\n",
    "CO2 = sum_CO2_cor_won/U_BPOW_Factor\n",
    "CO = sum_CO_cor_won/U_BPOW_Factor\n",
    "NOx = sum_NOx_cor_won/U_BPOW_Factor\n",
    "THC = sum_THC_cor_won/U_BPOW_Factor\n",
    "NMHC = sum_NMHC_cor_won/U_BPOW_Factor\n",
    "final['Cold Start Em.'] = [CO2,CO,NOx,THC,NMHC]\n",
    "final['Hot Start Em.'] = [753.071,8.288,0.071,0.104,0.057]\n",
    "total = final.get('Cold Start Em.')/7 + final.get('Hot Start Em.')*6/7\n",
    "final['Total'] = total\n",
    "final['DF'] = [1,1.53,3.268,1,1.961]\n",
    "final_emi = total*final.DF\n",
    "final['FINAL Em.'] = final_emi\n",
    "final['Regulation'] = ['-',14.4,0.2,'-',0.14]\n",
    "\n",
    "# Preparation of Excel-File\n",
    "file = xlsxwriter.Workbook('Final.xlsx')\n",
    "sheet = file.add_worksheet('Emissions_Calculations')\n",
    "bold = file.add_format({'bold': True})\n",
    "red = file.add_format({'font_color': 'red','border':1,'bold':1,'fg_color':'#FFA62F'})\n",
    "dark_grey = file.add_format({'fg_color':'#696969','bold':1,'border': 1})\n",
    "bright_grey = file.add_format({'fg_color':'#A9A9A9', 'bold':1,'border': 1})\n",
    "border = file.add_format({'border':1})\n",
    "merge_format = file.add_format({'bold': 1,'border': 1,'align': 'center','valign': 'vcenter','fg_color': '#C71585','font_color':'white'})\n",
    "merge_format2 = file.add_format({'bold': 1,'border': 1,'align': 'center','valign': 'vcenter','fg_color': '#A9A9A9'})\n",
    "\n",
    "# Final Emissions\n",
    "sheet.merge_range('A1:H1', 'Final Emissions', merge_format)\n",
    "sheet.write_row('A2',final.columns.values,dark_grey)\n",
    "sheet.write_column('A3',final.Species,bright_grey)\n",
    "sheet.write_column('B3',final.Units,bright_grey)\n",
    "sheet.write_column('C3',np.round(final.get('Cold Start Em.'),3),border)\n",
    "sheet.write_column('D3',np.round(final.get('Hot Start Em.'),3),border)\n",
    "sheet.write_column('E3',np.round(final.get('Total'),3),border)\n",
    "sheet.write_column('F3',final.get('DF'),border)\n",
    "sheet.write_column('H3',final.get('Regulation'),bright_grey)\n",
    "\n",
    "# Emissions Mass - corrected without negative values\n",
    "sheet.merge_range('J1:K1', 'Emissions Mass', merge_format2)\n",
    "sheet.write('J2','Cold Start',bright_grey)\n",
    "sheet.write('K2','Hot Start',bright_grey)\n",
    "sheet.write_column('J3',array_sum_cor_won,border)\n",
    "\n",
    "final.Regulation = final.Regulation.convert_objects(convert_numeric=True)\n",
    "for i in range(1,len(final)+1):\n",
    "    value = round(final.get('FINAL Em.')[i-1],3)\n",
    "    if value > final.Regulation[i-1]:\n",
    "        string = 'G' + str(i+2)\n",
    "        sheet.write(string,value,red)\n",
    "    else:\n",
    "        string = 'G' + str(i+2)\n",
    "        sheet.write(string,value,border)        \n",
    "        \n",
    "# Drift corrected emissions\n",
    "drift = pd.DataFrame()\n",
    "drift['Species'] = ['CO2','CO','NOx','THC','NMHC']\n",
    "drift['Units'] = ['g/ghphr','g/ghphr','g/ghphr','g/ghphr','g/ghphr']\n",
    "CO2 = sum_CO2_cor/U_BPOW_Factor\n",
    "CO = sum_CO_cor/U_BPOW_Factor\n",
    "NOx = sum_NOx_cor/U_BPOW_Factor\n",
    "THC = sum_THC_cor/U_BPOW_Factor\n",
    "NMHC = sum_NMHC_cor/U_BPOW_Factor\n",
    "drift['Cold Start Em.'] = [CO2,CO,NOx,THC,NMHC]\n",
    "drift['Hot Start Em.'] = [753.071,8.288,0.07,0.104,0.057]\n",
    "total = drift.get('Cold Start Em.')/7 + drift.get('Hot Start Em.')*6/7\n",
    "drift['Total'] = total\n",
    "drift['DF'] = [1,1.53,3.268,1,1.961]\n",
    "drift_emi = total*drift.DF\n",
    "drift['FINAL Em.'] = drift_emi\n",
    "drift['Regulation'] = ['-',14.4,0.2,'-',0.14]\n",
    "sheet.merge_range('A10:H10', 'Drift corrected Emissions', merge_format)\n",
    "sheet.write_row('A11',drift.columns.values,dark_grey)\n",
    "sheet.write_column('A12',drift.Species,bright_grey)\n",
    "sheet.write_column('B12',drift.Units,bright_grey)\n",
    "sheet.write_column('C12',np.round(drift.get('Cold Start Em.'),3),border)\n",
    "sheet.write_column('D12',np.round(drift.get('Hot Start Em.'),3),border)\n",
    "sheet.write_column('E12',np.round(drift.get('Total'),3),border)\n",
    "sheet.write_column('F12',drift.get('DF'),border)\n",
    "sheet.write_column('H12',drift.get('Regulation'),bright_grey)\n",
    "drift.Regulation = drift.Regulation.convert_objects(convert_numeric=True)\n",
    "\n",
    "# Emissions Mass - corrected\n",
    "sheet.merge_range('J10:K10', 'Emissions Mass', merge_format2)\n",
    "sheet.write('J11','Cold Start',bright_grey)\n",
    "sheet.write('K11','Hot Start',bright_grey)\n",
    "sheet.write_column('J12',array_sum_cor,border)\n",
    "\n",
    "for i in range(1,len(drift)+1):\n",
    "    value = round(drift.get('FINAL Em.')[i-1],3)\n",
    "    if value > drift.Regulation[i-1]:\n",
    "        string = 'G' + str(i+11)\n",
    "        sheet.write(string,value,red)\n",
    "    else:\n",
    "        string = 'G' + str(i+11)\n",
    "        sheet.write(string,value,border)\n",
    "\n",
    "# Uncorrected emissions\n",
    "un = pd.DataFrame()\n",
    "un['Species'] = ['CO2','CO','NOx','THC','NMHC']\n",
    "un['Units'] = ['g/ghphr','g/ghphr','g/ghphr','g/ghphr','g/ghphr']\n",
    "CO2 = sum_CO2_un/U_BPOW_Factor\n",
    "CO = sum_CO_un/U_BPOW_Factor\n",
    "NOx = sum_NOx_un/U_BPOW_Factor\n",
    "THC = sum_THC_un/U_BPOW_Factor\n",
    "NMHC = sum_NMHC_un/U_BPOW_Factor\n",
    "un['Cold Start Em.'] = [CO2,CO,NOx,THC,NMHC]\n",
    "un['Hot Start Em.'] = [750.206,8.3,0.073,0.104,0.054]\n",
    "total = un.get('Cold Start Em.')/7 + un.get('Hot Start Em.')*6/7\n",
    "un['Total'] = total\n",
    "un['DF'] = [1,1.53,3.268,1,1.961]\n",
    "un_emi = total*un.DF\n",
    "un['FINAL Em.'] = un_emi\n",
    "un['Regulation'] = ['-',14.4,0.2,'-',0.14]\n",
    "sheet.merge_range('A19:H19', 'Drift uncorrected emissions', merge_format)\n",
    "sheet.write_row('A20',un.columns.values,dark_grey)\n",
    "sheet.write_column('A21',un.Species,bright_grey)\n",
    "sheet.write_column('B21',un.Units,bright_grey)\n",
    "sheet.write_column('C21',np.round(un.get('Cold Start Em.'),3),border)\n",
    "sheet.write_column('D21',np.round(un.get('Hot Start Em.'),3),border)\n",
    "sheet.write_column('E21',np.round(un.get('Total'),3),border)\n",
    "sheet.write_column('F21',un.get('DF'),border)\n",
    "sheet.write_column('H21',un.get('Regulation'),bright_grey)\n",
    "un.Regulation = un.Regulation.convert_objects(convert_numeric=True)\n",
    "\n",
    "# Emissions Mass - uncorrected\n",
    "sheet.merge_range('J19:K19', 'Emissions Mass', merge_format2)\n",
    "sheet.write('J20','Cold Start',bright_grey)\n",
    "sheet.write('K20','Hot Start',bright_grey)\n",
    "sheet.write_column('J21',array_sum_un,border)\n",
    "\n",
    "for i in range(1,len(un)+1):\n",
    "    value = round(un.get('FINAL Em.')[i-1],3)\n",
    "    if value > drift.Regulation[i-1]:\n",
    "        string = 'G' + str(i+20)\n",
    "        sheet.write(string,value,red)\n",
    "    else:\n",
    "        string = 'G' + str(i+20)\n",
    "        sheet.write(string,value,border)\n",
    "\n",
    "file.close()\n",
    "print('1065 Calculation finished! Report is saved!')"
   ]
  },
  {
   "cell_type": "code",
   "execution_count": null,
   "metadata": {
    "collapsed": true
   },
   "outputs": [],
   "source": []
  }
 ],
 "metadata": {
  "kernelspec": {
   "display_name": "Python 3",
   "language": "python",
   "name": "python3"
  },
  "language_info": {
   "codemirror_mode": {
    "name": "ipython",
    "version": 3
   },
   "file_extension": ".py",
   "mimetype": "text/x-python",
   "name": "python",
   "nbconvert_exporter": "python",
   "pygments_lexer": "ipython3",
   "version": "3.3.3"
  }
 },
 "nbformat": 4,
 "nbformat_minor": 0
}
