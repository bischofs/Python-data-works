{
 "cells": [
  {
   "cell_type": "code",
   "execution_count": 1,
   "metadata": {
    "collapsed": false
   },
   "outputs": [],
   "source": [
    "import matplotlib as mt\n",
    "import pandas as pd\n",
    "import pylab as pl\n",
    "import numpy as np\n",
    "import scipy as sc\n",
    "import scipy.optimize as opt\n",
    "\n",
    "data_pre = pd.read_csv(\"Pre_zero_span.csv\", low_memory=False)\n",
    "data_pre = data_pre.convert_objects(convert_numeric=True)\n",
    "data_post = pd.read_csv(\"Post_zero_span.csv\", low_memory=False)\n",
    "data_post = data_post.convert_objects(convert_numeric=True)\n",
    "data = pd.read_csv(\"Test_data.csv\", header=2,low_memory=False)\n",
    "data = data.convert_objects(convert_numeric=True)\n",
    "data_un = pd.read_csv(\"Calculation_Report.csv\")\n",
    "data_cor = pd.DataFrame()\n",
    "\n",
    "zero_span = pd.DataFrame(data=np.zeros([5,6]),index=['PreZero','PreSpan','PostZero','PostSpan','Chosen'],columns=['E_CO2D2','E_COHD2','E_COLD2','E_NOXD2','E_THCW2','E_CH4W2'])"
   ]
  },
  {
   "cell_type": "code",
   "execution_count": 2,
   "metadata": {
    "collapsed": false,
    "scrolled": true
   },
   "outputs": [],
   "source": [
    "### Pre-File\n",
    "zero_data = data_pre.loc[59,'E_COHD2':'E_COLD2']\n",
    "span_data = data_pre.loc[120,'E_COHD2':'E_COLD2']\n",
    "\n",
    "## Zero -  Data ##\n",
    "zero_span.E_CO2D2['PreZero'] = abs(zero_data.E_CO2D2+0) * 10000\n",
    "zero_span.E_COHD2['PreZero'] = abs(zero_data.E_COHD2+0) * 10000\n",
    "zero_span.E_COLD2['PreZero'] = abs(zero_data.E_COLD2+0)\n",
    "zero_span.E_NOXD2['PreZero'] = abs(zero_data.E_NOXD2+0)\n",
    "zero_span.E_THCW2['PreZero'] = abs(zero_data.E_THCW2+0)\n",
    "\n",
    "## Span - Data ##\n",
    "zero_span.E_CO2D2['PreSpan'] = abs(data_pre.E_CO2D2.iloc[-1]+0) * 10000\n",
    "zero_span.E_COHD2['PreSpan'] = abs(span_data.E_COHD2+0) * 10000\n",
    "zero_span.E_COLD2['PreSpan'] = abs(span_data.E_COLD2+0)\n",
    "zero_span.E_NOXD2['PreSpan'] = abs(span_data.E_NOXD2+0)\n",
    "zero_span.E_THCW2['PreSpan'] = abs(span_data.E_THCW2+0)\n",
    "zero_span.E_CH4W2['PreSpan'] = abs(data_pre.E_THCW2.iloc[-1]+0)"
   ]
  },
  {
   "cell_type": "code",
   "execution_count": 3,
   "metadata": {
    "collapsed": false
   },
   "outputs": [],
   "source": [
    "### Post-File\n",
    "zero_data = data_post.loc[59,'E_COHD2':'E_COLD2']\n",
    "span_data = data_post.loc[120,'E_COHD2':'E_COLD2']\n",
    "\n",
    "## Zero -  Data ##\n",
    "zero_span.E_CO2D2['PostZero'] = abs(zero_data.E_CO2D2+0) * 10000\n",
    "zero_span.E_COHD2['PostZero'] = abs(zero_data.E_COHD2+0) * 10000\n",
    "zero_span.E_COLD2['PostZero'] = abs(zero_data.E_COLD2+0)\n",
    "zero_span.E_NOXD2['PostZero'] = abs(zero_data.E_NOXD2+0)\n",
    "zero_span.E_THCW2['PostZero'] = abs(zero_data.E_THCW2+0)\n",
    "zero_span.E_CH4W2['PostZero'] = abs(zero_data.E_THCW2+0)\n",
    "\n",
    "## Span - Data ##\n",
    "zero_span.E_CO2D2['PostSpan'] = abs(data_post.E_CO2D2.iloc[-1]+0) * 10000\n",
    "zero_span.E_COHD2['PostSpan'] = abs(span_data.E_COHD2+0) * 10000\n",
    "zero_span.E_COLD2['PostSpan'] = abs(span_data.E_COLD2+0)\n",
    "zero_span.E_NOXD2['PostSpan'] = abs(span_data.E_NOXD2+0)\n",
    "zero_span.E_THCW2['PostSpan'] = abs(span_data.E_THCW2+0)\n",
    "zero_span.E_CH4W2['PostSpan'] = abs(data_post.E_THCW2.iloc[-1]+0)\n",
    "\n",
    "## Chosen Values - From Database (Tanks)\n",
    "zero_span.E_CO2D2['Chosen'] = 191000\n",
    "zero_span.E_COHD2['Chosen'] = 58700\n",
    "zero_span.E_COLD2['Chosen'] = 58700 # Set the same for high and low\n",
    "zero_span.E_NOXD2['Chosen'] = 4005\n",
    "zero_span.E_THCW2['Chosen'] = 9900\n",
    "zero_span.E_CH4W2['Chosen'] = 2510"
   ]
  },
  {
   "cell_type": "code",
   "execution_count": 4,
   "metadata": {
    "collapsed": true
   },
   "outputs": [],
   "source": [
    "######### TEST #############\n",
    "zero_data = data_pre.loc[59,'E_COHD2':'E_COLD2']\n",
    "span_data = data_pre.loc[120,'E_COHD2':'E_COLD2']\n",
    "## Zero -  Data ##\n",
    "zero_span.E_CO2D2['PreZero'] = 0\n",
    "zero_span.E_COHD2['PreZero'] = 0\n",
    "zero_span.E_COLD2['PreZero'] = 0\n",
    "zero_span.E_NOXD2['PreZero'] = 0.412\n",
    "zero_span.E_THCW2['PreZero'] = 0.254\n",
    "\n",
    "## Span - Data ##\n",
    "zero_span.E_CO2D2['PreSpan'] = 190030\n",
    "zero_span.E_COHD2['PreSpan'] = 58700\n",
    "zero_span.E_COLD2['PreSpan'] = 58700\n",
    "zero_span.E_NOXD2['PreSpan'] = 4003.95\n",
    "zero_span.E_THCW2['PreSpan'] = 9899.89\n",
    "zero_span.E_CH4W2['PreSpan'] = 2654.17\n",
    "\n",
    "zero_data = data_post.loc[59,'E_COHD2':'E_COLD2']\n",
    "span_data = data_post.loc[120,'E_COHD2':'E_COLD2']\n",
    "## Zero -  Data ##\n",
    "zero_span.E_CO2D2['PostZero'] = 50\n",
    "zero_span.E_COHD2['PostZero'] = 0\n",
    "zero_span.E_COLD2['PostZero'] = 0\n",
    "zero_span.E_NOXD2['PostZero'] = 0.914\n",
    "zero_span.E_THCW2['PostZero'] = 0.074\n",
    "zero_span.E_CH4W2['PostZero'] = 0.074\n",
    "\n",
    "## Span - Data ##\n",
    "zero_span.E_CO2D2['PostSpan'] = 190400\n",
    "zero_span.E_COHD2['PostSpan'] = 58850\n",
    "zero_span.E_COLD2['PostSpan'] = 58850\n",
    "zero_span.E_NOXD2['PostSpan'] = 4000.1\n",
    "zero_span.E_THCW2['PostSpan'] = 9890.16\n",
    "zero_span.E_CH4W2['PostSpan'] = 2651.84"
   ]
  },
  {
   "cell_type": "code",
   "execution_count": 5,
   "metadata": {
    "collapsed": false
   },
   "outputs": [],
   "source": [
    "## Correct Raw-Emissions ##\n",
    "data.E_CO2D2 = zero_span.E_CO2D2['Chosen']*((2*data_un.E_CO2D2)-(zero_span.E_CO2D2['PreZero']+zero_span.E_CO2D2['PostZero']))/((zero_span.E_CO2D2['PreSpan']+zero_span.E_CO2D2['PostSpan'])-(zero_span.E_CO2D2['PreZero']+zero_span.E_CO2D2['PostZero']))\n",
    "data.E_COHD2 = zero_span.E_COHD2['Chosen']*((2*data_un.E_COHD2)-(zero_span.E_COHD2['PreZero']+zero_span.E_COHD2['PostZero']))/((zero_span.E_COHD2['PreSpan']+zero_span.E_COHD2['PostSpan'])-(zero_span.E_COHD2['PreZero']+zero_span.E_COHD2['PostZero']))\n",
    "data.E_NOXD2 = zero_span.E_NOXD2['Chosen']*((2*data_un.E_NOXD2)-(zero_span.E_NOXD2['PreZero']+zero_span.E_NOXD2['PostZero']))/((zero_span.E_NOXD2['PreSpan']+zero_span.E_NOXD2['PostSpan'])-(zero_span.E_NOXD2['PreZero']+zero_span.E_NOXD2['PostZero']))\n",
    "data.E_THCW2 = zero_span.E_THCW2['Chosen']*((2*data_un.E_THCW2)-(zero_span.E_THCW2['PreZero']+zero_span.E_THCW2['PostZero']))/((zero_span.E_THCW2['PreSpan']+zero_span.E_THCW2['PostSpan'])-(zero_span.E_THCW2['PreZero']+zero_span.E_THCW2['PostZero']))\n",
    "data.E_CH4W2 = zero_span.E_CH4W2['Chosen']*((2*data.E_CH4W2)-(zero_span.E_CH4W2['PreZero']+zero_span.E_CH4W2['PostZero']))/((zero_span.E_CH4W2['PreSpan']+zero_span.E_CH4W2['PostSpan'])-(zero_span.E_CH4W2['PreZero']+zero_span.E_CH4W2['PostZero']))"
   ]
  },
  {
   "cell_type": "code",
   "execution_count": 6,
   "metadata": {
    "collapsed": false
   },
   "outputs": [
    {
     "name": "stdout",
     "output_type": "stream",
     "text": [
      "Initialization finished!\n"
     ]
    }
   ],
   "source": [
    "## Corrected Calculation ##\n",
    "data_cor = pd.DataFrame()\n",
    "\n",
    "## Prepare constant Values (Data from E-bench)\n",
    "RFPF = 0.0133\n",
    "CH4_RF = 1.1\n",
    "Tchiller = 7\n",
    "Pamb = 98.0918852\n",
    "Pchiller = Pamb + 23.75\n",
    "xCO2intdry = 0.000375\n",
    "xCO2dildry = 0.000375\n",
    "xTHC_THC_FID_init = 1\n",
    "print(\"Initialization finished!\")"
   ]
  },
  {
   "cell_type": "code",
   "execution_count": 7,
   "metadata": {
    "collapsed": false
   },
   "outputs": [
    {
     "name": "stdout",
     "output_type": "stream",
     "text": [
      "First Level of Calculation finished!\n"
     ]
    }
   ],
   "source": [
    "##### First Level of Calculation #####\n",
    "data_cor[\"E_CO2D2\"] = data.E_CO2D2\n",
    "data_cor[\"E_COHD2\"] = data.E_COHD2\n",
    "data_cor[\"E_NOXD2\"] = data.E_NOXD2\n",
    "data_cor[\"E_THCW2\"] = data.E_THCW2\n",
    "data_cor[\"xCH4wet\"] = data.E_CH4W2/1000000 # ppm --> mol/mol\n",
    "data_cor[\"C_FRAIRWS\"] = data.C_FRAIRWS\n",
    "data_cor[\"BARO Press\"] = data.P_INLET*100 # in kPa\n",
    "data_cor[\"T_INLET\"] = data.T_INLET\n",
    "data_cor[\"M_RELHUM\"] = data.M_RELHUM\n",
    "data_cor[\"mfuel\"] = data.M_FRFUEL*1000/3600 # kg/h --> g/s\n",
    "print(\"First Level of Calculation finished!\")"
   ]
  },
  {
   "cell_type": "code",
   "execution_count": 8,
   "metadata": {
    "collapsed": false
   },
   "outputs": [
    {
     "name": "stdout",
     "output_type": "stream",
     "text": [
      "Second Level of Calculation finished!\n"
     ]
    }
   ],
   "source": [
    "##### Second Level of Calculation #####\n",
    "data_cor[\"xCO2meas\"] = data_cor.E_CO2D2/1000000 # ppm --> mol/mol\n",
    "data_cor[\"xCOmeas\"] = data_cor.E_COHD2/1000000 # ppm --> mol/mol\n",
    "data_cor[\"xNOxmeas\"] = data_cor.E_NOXD2/1000000 # ppm --> mol/mol\n",
    "data_cor[\"xTHCmeas\"] = data_cor.E_THCW2/1000000 # ppm --> mol/mol\n",
    "data_cor[\"Molar Flow Wet\"] = data_cor.C_FRAIRWS*1000/3600 # kg/h --> g/s\n",
    "data_cor[\"maf_kgh (wet)\"] = data_cor.C_FRAIRWS\n",
    "data_cor[\"pH2O @ inlet\"] = 10**(10.79574*(1-(273.16/(273.15+data_cor.T_INLET)))-5.028*np.log10((273.15+data_cor.T_INLET)/273.16)+0.000150475*(1-10**(-8.2969*(((273.15+data_cor.T_INLET)/273.16)-1)))+0.00042873*(10**(4.76955*(1-(273.16/(273.15+data_cor.T_INLET))))-1)-0.2138602)\n",
    "data_cor[\"xH2O\"] = data_cor.M_RELHUM*data_cor.get(\"pH2O @ inlet\")/(data_cor.get(\"BARO Press\")*100)\n",
    "data_cor[\"xTHC[THC_FID]cor\"] = data_cor.E_THCW2-xTHC_THC_FID_init\n",
    "print(\"Second Level of Calculation finished!\")"
   ]
  },
  {
   "cell_type": "code",
   "execution_count": 9,
   "metadata": {
    "collapsed": false
   },
   "outputs": [
    {
     "name": "stdout",
     "output_type": "stream",
     "text": [
      "Third Level of Calculation finished!\n"
     ]
    }
   ],
   "source": [
    "##### Third Level of Calculation #####\n",
    "data_cor.E_THCW2 = data_cor.get(\"xTHC[THC_FID]cor\") # Corrected Value\n",
    "data_cor[\"xNO2meas\"] = data_cor.xNOxmeas*0\n",
    "data_cor[\"xNOmeas\"] = data_cor.xNOxmeas*1\n",
    "data_cor[\"xTHCwet\"] = data_cor.xTHCmeas\n",
    "data_cor[\"Intake Air flow\"] = data_cor.get(\"Molar Flow Wet\")/28.96 # g/sec --> mol/sec\n",
    "data_cor[\"Mmix\"] = 28.96559*(1-data_cor.xH2O)+18.01528*data_cor.xH2O\n",
    "data_cor[\"xH2Oint\"] = data_cor.xH2O\n",
    "data_cor[\"xH2Odil\"] = data_cor.xH2O\n",
    "\n",
    "# Constant Channels\n",
    "c = np.zeros((len(data_cor),1))\n",
    "c.fill(3.5)\n",
    "data_cor[\"xH2Ogas\"] = c\n",
    "c.fill(13.875389)\n",
    "data_cor[\"Molar Mass of HC Emissions\"] = c\n",
    "c.fill(28.0101)\n",
    "data_cor[\"Molar Mass of CO Emissions\"] = c\n",
    "c.fill(46.0055)\n",
    "data_cor[\"Molar Mass of NOx Emissions (as NO2)\"] = c\n",
    "c.fill(44.0095)\n",
    "data_cor[\"Molar Mass of CO2 Emissions\"] = c\n",
    "c.fill(13.875389)\n",
    "data_cor[\"Molar Mass of NMHC Emissions\"] = c\n",
    "c.fill(0.866)\n",
    "data_cor[\"Wc\"] = c\n",
    "print(\"Third Level of Calculation finished!\")"
   ]
  },
  {
   "cell_type": "code",
   "execution_count": 10,
   "metadata": {
    "collapsed": false
   },
   "outputs": [
    {
     "name": "stdout",
     "output_type": "stream",
     "text": [
      "Fourth Level of Calculation finished!\n"
     ]
    }
   ],
   "source": [
    "##### Fourth Level of Calculation #####\n",
    "data_cor[\"xNMHCwet\"] = (data_cor.xTHCwet-data_cor.xCH4wet*CH4_RF)/(1-RFPF*CH4_RF)\n",
    "data_cor[\"nint (Intake Air Flow)\"] = data_cor.get(\"Molar Flow Wet\")/data_cor.Mmix\n",
    "data_cor[\"xH2Ointdry\"] = data_cor.xH2Oint/(1-data_cor.xH2Oint)\n",
    "data_cor[\"xH2Odildry\"] = data_cor.xH2Odil/(1-data_cor.xH2Odil)\n",
    "print(\"Fourth Level of Calculation finished!\")"
   ]
  },
  {
   "cell_type": "code",
   "execution_count": 11,
   "metadata": {
    "collapsed": false
   },
   "outputs": [
    {
     "name": "stdout",
     "output_type": "stream",
     "text": [
      "Fifth Level of Calculation finished!\n"
     ]
    }
   ],
   "source": [
    "##### Fifth Level of Calculation #####\n",
    "data_cor[\"xCO2int\"] = xCO2intdry/(1+data_cor.xH2Ointdry)\n",
    "data_cor[\"xO2int\"] = ((0.20982-xCO2intdry)/(1+data_cor.xH2Ointdry)) \n",
    "data_cor[\"xCO2dil\"] = xCO2dildry/(1+data_cor.xH2Odildry)\n",
    "print(\"Fifth Level of Calculation finished!\")"
   ]
  },
  {
   "cell_type": "code",
   "execution_count": 12,
   "metadata": {
    "collapsed": false
   },
   "outputs": [
    {
     "name": "stdout",
     "output_type": "stream",
     "text": [
      "Circle Calculation finished!\n"
     ]
    }
   ],
   "source": [
    "##### Circle Calculation #####\n",
    "def f(variables):\n",
    "    # Channels in Formulas\n",
    "    #A = data.xdil/exh -- G\n",
    "    #B = data.xH2Oexh -- H\n",
    "    #C = data.xCcombdry -- I\n",
    "    #D = data.xH2Oexhdry -- J\n",
    "    #E = data.xdil/exhdry -- K\n",
    "    #F = data.xint/exhdry -- L\n",
    "    #G = data.xraw/exhdry -- M\n",
    "    #H = data.xH2OCOmeas -- AC\n",
    "    #I = data.xH2OTHCmeas -- AD\n",
    "    #J = data.xH2ONOxmeas -- AE\n",
    "    #K = data.xH2ONO2meas -- AF\n",
    "    #L = data.xH2OCO2meas -- AH\n",
    "    #M = data.xCOdry -- AI\n",
    "    #N = data.xTHCdry -- AJ\n",
    "    #O = data.xNOxdry -- AK\n",
    "    #P = data.xNO2dry -- AL\n",
    "    #Q = data.xCO2dry -- AN\n",
    "    #R = data.xH2dry -- AO    \n",
    "    \n",
    "    # Constant Values    \n",
    "    alpha = 1.84\n",
    "    beta = 0\n",
    "    gamma = 0\n",
    "    delta = 0\n",
    "    h2ogas = 3.5    \n",
    "    \n",
    "    # Unknown Variables\n",
    "    (A,B,C,D,E,F,G,H,I,J,K,L,M,N,O,P,Q,R) = variables\n",
    "        \n",
    "    # Known Variables\n",
    "    S = data_cor.xCO2dil[i]\n",
    "    T = data_cor.xCO2int[i]\n",
    "    U = alpha\n",
    "    V = data_cor.xH2Odil[i]\n",
    "    W = data_cor.xH2Oint[i]\n",
    "    X = data_cor.xO2int[i]\n",
    "    Y = beta\n",
    "    Z = gamma\n",
    "    AA = delta\n",
    "    AB = data_cor.xCOmeas[i]\n",
    "    AC = data_cor.xTHCmeas[i]\n",
    "    AD = data_cor.xNOxmeas[i]\n",
    "    AE = data_cor.xNO2meas[i]\n",
    "    AF = h2ogas\n",
    "    AG = data_cor.xCO2meas[i]\n",
    "    \n",
    "    # Equations to solve\n",
    "    eq1 = 1-(G/(1+D))-A\n",
    "    eq2 = D/(1+D)-B\n",
    "    eq3 = Q+(M)+(N)-(S*E)-(T*F)-C\n",
    "    eq4 = ((U/2)*(C-N))+V*E+W*F-R-D \n",
    "    eq5 = A/(1-B)-E\n",
    "    eq6 = (1/(2*X))*(((U/2)-Y+2+(2*Z))*(C-N)-(M-O-(2*P)+R))-F\n",
    "    eq7 = 0.5*(((U/2)+Y+AA)*(C-N)+((2*N)+M-P+R))+F-G\n",
    "    eq8 = AB/(1-H)-M    \n",
    "    eq10 = AC/(1-I)-N\n",
    "    eq11 = B-I\n",
    "    eq12 = AD/(1-J)-O    \n",
    "    eq14 = AE/(1-K)-P    \n",
    "    eq16 = (M*(D-V*E))/(AF*(Q-S*E))-R\n",
    "    eq17 = AG/(1-L)-Q\n",
    "    \n",
    "    if mode==0:\n",
    "        eq9 = bs-H    \n",
    "        eq13 = bs-J\n",
    "        eq15 = bs-K\n",
    "        eq18 = bs-L\n",
    "    else:\n",
    "        eq9 = B-H    \n",
    "        eq13 = B-J\n",
    "        eq15 = B-K\n",
    "        eq18 = B-L\n",
    "    \n",
    "    return [eq1,eq2,eq3,eq4,eq5,eq6,eq7,eq8,eq9,eq10,eq11,eq12,eq13,eq14,eq15,eq16,eq17,eq18]\n",
    "\n",
    "i = 0\n",
    "mode = 0\n",
    "b = np.zeros((len(data_cor),18))\n",
    "bs = 0.00821722713286476 # Has to be calculated\n",
    "\n",
    "while i < len(data_cor)-1:\n",
    "    i +=1  \n",
    "    g = 0.5 # First guess for iteration start\n",
    "\n",
    "    solution = opt.fsolve(f,(g,g,g,g,g,g,g,g,g,g,g,g,g,g,g,g,g,g))\n",
    "    \n",
    "    if solution[2]<bs:\n",
    "        mode = 1\n",
    "        solution = opt.fsolve(f,(g,g,g,g,g,g,g,g,g,g,g,g,g,g,g,g,g,g))\n",
    "        mode = 0\n",
    "    b[:][i] = solution\n",
    "\n",
    "df = pd.DataFrame(b,columns =['xdil/exh','xH2Oexh','xCcombdry','xH2Oexhdry','xdil/exhdry','xint/exhdry','xraw/exhdry','xH2OCOmeas','xH2OTHCmeas','xH2ONOxmeas','xH2ONO2meas','xH2OCO2meas','xCOdry','xTHCdry','xNOxdry','xNO2dry','xCO2dry','xH2dry'])\n",
    "data_cor = pd.concat([data_cor,df],axis=1)\n",
    "print(\"Circle Calculation finished!\")\n",
    "## 05/08/2015 - Anton lang, Lang@FEV.com"
   ]
  },
  {
   "cell_type": "code",
   "execution_count": 13,
   "metadata": {
    "collapsed": false
   },
   "outputs": [
    {
     "name": "stdout",
     "output_type": "stream",
     "text": [
      "Calculation finished and Report saved!\n"
     ]
    }
   ],
   "source": [
    "##### Calculation of remaining values #####\n",
    "data_cor[\"xH2ONOmeas\"] = data_cor.xH2ONO2meas\n",
    "data_cor[\"xNOdry\"] = data_cor.xNOmeas/(1-data_cor.xH2ONOmeas)\n",
    "data_cor[\"xCO2dry\"] = data_cor.xCO2meas/(1-data_cor.xH2OCO2meas)\n",
    "data_cor[\"xH2dry\"] = (data_cor.xCOdry*(data_cor.xH2Oexhdry-data_cor.xH2Odil*data_cor.get(\"xdil/exhdry\")))/(data_cor.xH2Ogas*(data_cor.xCO2dry-data_cor.xCO2dil*data_cor.get(\"xdil/exhdry\")))\n",
    "data_cor[\"xCOwet\"] = data_cor.xCOmeas*((1-data_cor.xH2Oexh)/(1-data_cor.xH2OCOmeas))\n",
    "data_cor['xNOxwet'] = data_cor.xNOxmeas*((1-data_cor.xH2Oexh)/(1-data_cor.xH2ONOxmeas))\n",
    "data_cor[\"xNO2wet\"] = data_cor.xNO2meas*((1-data_cor.xH2Oexh)/(1-data_cor.xH2ONO2meas))\n",
    "data_cor[\"xNOwet\"] = data_cor.xNOmeas*((1-data_cor.xH2Oexh)/(1-data_cor.xH2ONOmeas))\n",
    "data_cor[\"xCO2wet\"] = data_cor.xCO2meas*((1-data_cor.xH2Oexh)/(1-data_cor.xH2OCO2meas))\n",
    "data_cor[\"xNOxcorrwet\"] = data_cor.xNOxwet*(18.84 *data_cor.xH2O + 0.68094)\n",
    "\n",
    "data_cor[\"nexh\"] = data_cor.get(\"nint (Intake Air Flow)\")/(1+((data_cor.get(\"xint/exhdry\")-data_cor.get(\"xraw/exhdry\"))/(1+data_cor.xH2Oexhdry)))\n",
    "data_cor[\"Mass_THC\"] = data_cor.xTHCwet*data_cor.nexh*data_cor.get(\"Molar Mass of HC Emissions\")\n",
    "data_cor[\"Mass_CO\"] = data_cor.xCOwet*data_cor.nexh*data_cor.get(\"Molar Mass of CO Emissions\")\n",
    "data_cor[\"Mass_NOx\"] = data_cor.xNOxcorrwet*data_cor.nexh*data_cor.get(\"Molar Mass of NOx Emissions (as NO2)\")\n",
    "data_cor[\"Mass_CO2\"] = data_cor.xCO2wet*data_cor.nexh*data_cor.get(\"Molar Mass of CO2 Emissions\")\n",
    "data_cor[\"Mass_NMHC\"] = data_cor.xNMHCwet*data_cor.nexh*data_cor.get(\"Molar Mass of NMHC Emissions\")\n",
    "\n",
    "data_cor.to_csv(\"Calculation_Report_cor.csv\")\n",
    "print(\"Calculation finished and Report saved!\")"
   ]
  },
  {
   "cell_type": "code",
   "execution_count": 14,
   "metadata": {
    "collapsed": false
   },
   "outputs": [],
   "source": [
    "# Emissions in total\n",
    "sum_THC_cor = data_cor.Mass_THC.sum(skipna = True)\n",
    "sum_CO_cor = data_cor.Mass_CO.sum(skipna = True)\n",
    "sum_NOx_cor = data_cor.Mass_NOx.sum(skipna=True)\n",
    "sum_CO2_cor = data_cor.Mass_CO2.sum(skipna=True)\n",
    "sum_NMHC_cor = data_cor.Mass_NMHC.sum(skipna=True)"
   ]
  },
  {
   "cell_type": "code",
   "execution_count": 15,
   "metadata": {
    "collapsed": false
   },
   "outputs": [
    {
     "name": "stderr",
     "output_type": "stream",
     "text": [
      "/usr/local/lib/python3.3/dist-packages/IPython/kernel/__main__.py:14: SettingWithCopyWarning: \n",
      "A value is trying to be set on a copy of a slice from a DataFrame\n",
      "\n",
      "See the the caveats in the documentation: http://pandas.pydata.org/pandas-docs/stable/indexing.html#indexing-view-versus-copy\n"
     ]
    }
   ],
   "source": [
    "# Emissions in total (Negative Values removed)\n",
    "for i in range(1,len(data_cor)):\n",
    "    if data_cor.Mass_THC[i]<0:\n",
    "        data_cor.Mass_THC[i] = 0\n",
    "    if data_cor.Mass_CO.ix[i]<0:\n",
    "        data_cor.Mass_CO.ix[i] = 0\n",
    "    if data_cor.Mass_NOx.ix[i]<0:\n",
    "        data_cor.Mass_NOx.ix[i] = 0\n",
    "    if data_cor.Mass_CO2.ix[i]<0:\n",
    "        data_cor.Mass_CO2.ix[i] = 0\n",
    "    if data_cor.Mass_NMHC.ix[i]<0:\n",
    "        data_cor.Mass_NMHC.ix[i] = 0\n",
    "    if data.U_BPOW[i]<0:\n",
    "        data.U_BPOW[i] = 0\n",
    "U_BPOW_Factor = data.U_BPOW.sum(skipna = True)/(3600*0.746)\n",
    "sum_THC_cor_won = data_cor.Mass_THC.sum(skipna = True)\n",
    "sum_CO_cor_won = data_cor.Mass_CO.sum(skipna = True)\n",
    "sum_NOx_cor_won = data_cor.Mass_NOx.sum(skipna=True)\n",
    "sum_CO2_cor_won = data_cor.Mass_CO2.sum(skipna=True)\n",
    "sum_NMHC_cor_won = data_cor.Mass_NMHC.sum(skipna=True)"
   ]
  },
  {
   "cell_type": "code",
   "execution_count": 35,
   "metadata": {
    "collapsed": false
   },
   "outputs": [
    {
     "ename": "TypeError",
     "evalue": "'numpy.float64' object is not iterable",
     "output_type": "error",
     "traceback": [
      "\u001b[1;31m---------------------------------------------------------------------------\u001b[0m",
      "\u001b[1;31mTypeError\u001b[0m                                 Traceback (most recent call last)",
      "\u001b[1;32m<ipython-input-35-e11dcdfc42ec>\u001b[0m in \u001b[0;36m<module>\u001b[1;34m()\u001b[0m\n\u001b[0;32m     45\u001b[0m     \u001b[1;32melse\u001b[0m\u001b[1;33m:\u001b[0m\u001b[1;33m\u001b[0m\u001b[0m\n\u001b[0;32m     46\u001b[0m         \u001b[0mstring\u001b[0m \u001b[1;33m=\u001b[0m \u001b[1;34m'G'\u001b[0m \u001b[1;33m+\u001b[0m \u001b[0mstr\u001b[0m\u001b[1;33m(\u001b[0m\u001b[0mi\u001b[0m\u001b[1;33m+\u001b[0m\u001b[1;36m1\u001b[0m\u001b[1;33m)\u001b[0m\u001b[1;33m\u001b[0m\u001b[0m\n\u001b[1;32m---> 47\u001b[1;33m         \u001b[0msheet\u001b[0m\u001b[1;33m.\u001b[0m\u001b[0mwrite_column\u001b[0m\u001b[1;33m(\u001b[0m\u001b[0mstring\u001b[0m\u001b[1;33m,\u001b[0m\u001b[0mfinal\u001b[0m\u001b[1;33m.\u001b[0m\u001b[0mFINAL_Em\u001b[0m\u001b[1;33m[\u001b[0m\u001b[0mi\u001b[0m\u001b[1;33m-\u001b[0m\u001b[1;36m1\u001b[0m\u001b[1;33m]\u001b[0m\u001b[1;33m)\u001b[0m\u001b[1;33m\u001b[0m\u001b[0m\n\u001b[0m\u001b[0;32m     48\u001b[0m \u001b[0mfile\u001b[0m\u001b[1;33m.\u001b[0m\u001b[0mclose\u001b[0m\u001b[1;33m(\u001b[0m\u001b[1;33m)\u001b[0m\u001b[1;33m\u001b[0m\u001b[0m\n",
      "\u001b[1;32m/usr/local/lib/python3.3/dist-packages/xlsxwriter/worksheet.py\u001b[0m in \u001b[0;36mcell_wrapper\u001b[1;34m(self, *args, **kwargs)\u001b[0m\n\u001b[0;32m     61\u001b[0m             \u001b[0margs\u001b[0m \u001b[1;33m=\u001b[0m \u001b[0mnew_args\u001b[0m\u001b[1;33m\u001b[0m\u001b[0m\n\u001b[0;32m     62\u001b[0m \u001b[1;33m\u001b[0m\u001b[0m\n\u001b[1;32m---> 63\u001b[1;33m         \u001b[1;32mreturn\u001b[0m \u001b[0mmethod\u001b[0m\u001b[1;33m(\u001b[0m\u001b[0mself\u001b[0m\u001b[1;33m,\u001b[0m \u001b[1;33m*\u001b[0m\u001b[0margs\u001b[0m\u001b[1;33m,\u001b[0m \u001b[1;33m**\u001b[0m\u001b[0mkwargs\u001b[0m\u001b[1;33m)\u001b[0m\u001b[1;33m\u001b[0m\u001b[0m\n\u001b[0m\u001b[0;32m     64\u001b[0m \u001b[1;33m\u001b[0m\u001b[0m\n\u001b[0;32m     65\u001b[0m     \u001b[1;32mreturn\u001b[0m \u001b[0mcell_wrapper\u001b[0m\u001b[1;33m\u001b[0m\u001b[0m\n",
      "\u001b[1;32m/usr/local/lib/python3.3/dist-packages/xlsxwriter/worksheet.py\u001b[0m in \u001b[0;36mwrite_column\u001b[1;34m(self, row, col, data, cell_format)\u001b[0m\n\u001b[0;32m   1026\u001b[0m \u001b[1;33m\u001b[0m\u001b[0m\n\u001b[0;32m   1027\u001b[0m         \"\"\"\n\u001b[1;32m-> 1028\u001b[1;33m         \u001b[1;32mfor\u001b[0m \u001b[0mtoken\u001b[0m \u001b[1;32min\u001b[0m \u001b[0mdata\u001b[0m\u001b[1;33m:\u001b[0m\u001b[1;33m\u001b[0m\u001b[0m\n\u001b[0m\u001b[0;32m   1029\u001b[0m             \u001b[0merror\u001b[0m \u001b[1;33m=\u001b[0m \u001b[0mself\u001b[0m\u001b[1;33m.\u001b[0m\u001b[0mwrite\u001b[0m\u001b[1;33m(\u001b[0m\u001b[0mrow\u001b[0m\u001b[1;33m,\u001b[0m \u001b[0mcol\u001b[0m\u001b[1;33m,\u001b[0m \u001b[0mtoken\u001b[0m\u001b[1;33m,\u001b[0m \u001b[0mcell_format\u001b[0m\u001b[1;33m)\u001b[0m\u001b[1;33m\u001b[0m\u001b[0m\n\u001b[0;32m   1030\u001b[0m             \u001b[1;32mif\u001b[0m \u001b[0merror\u001b[0m\u001b[1;33m:\u001b[0m\u001b[1;33m\u001b[0m\u001b[0m\n",
      "\u001b[1;31mTypeError\u001b[0m: 'numpy.float64' object is not iterable"
     ]
    }
   ],
   "source": [
    "# Final Report\n",
    "import xlsxwriter\n",
    "final = pd.DataFrame()\n",
    "final['Species'] = ['CO2','CO','NOx','THC','NMHC']\n",
    "final['Units'] = ['g/ghphr','g/ghphr','g/ghphr','g/ghphr','g/ghphr']\n",
    "CO2 = sum_CO2_cor_won/U_BPOW_Factor\n",
    "CO = sum_CO_cor_won/U_BPOW_Factor\n",
    "NOx = sum_NOx_cor_won/U_BPOW_Factor\n",
    "THC = sum_THC_cor_won/U_BPOW_Factor\n",
    "NMHC = sum_NMHC_cor_won/U_BPOW_Factor\n",
    "final['Cold Start Em.'] = [CO2,CO,NOx,THC,NMHC]\n",
    "final['Hot Start Em.'] = [753.071,8.288,0.071,0.104,0.057]\n",
    "total = final.get('Cold Start Em.')/7 + final.get('Hot Start Em.')*6/7\n",
    "final['Total'] = total\n",
    "final['DF'] = [1,1.53,3.268,1,1.961]\n",
    "final_emi = total*final.DF\n",
    "final['FINAL_Em'] = final_emi\n",
    "final['Regulation'] = ['-',14.4,0.2,'-',0.14]\n",
    "\n",
    "# Preparation of Excel-File\n",
    "file = xlsxwriter.Workbook('Final.xlsx')\n",
    "sheet = file.add_worksheet('Emissions_Calculations')\n",
    "bold = file.add_format({'bold': True})\n",
    "red = file.add_format({'font_color': 'red'})\n",
    "\n",
    "sheet.write_row('A1',final.columns.values,bold)\n",
    "sheet.write_column('A2',final.Species,bold)\n",
    "sheet.write_column('B2',final.Units,bold)\n",
    "sheet.write_column('C2',final.get('Cold Start Em.'))\n",
    "sheet.write_column('D2',final.get('Hot Start Em.'))\n",
    "sheet.write_column('E2',final.get('Total'))\n",
    "sheet.write_column('F2',final.get('DF'))\n",
    "sheet.write_column('H2',final.get('Regulation'))\n",
    "final.Regulation = final.Regulation.convert_objects(convert_numeric=True)\n",
    "\n",
    "# Final Emissions\n",
    "for i in range(1,len(final)):\n",
    "    if final.FINAL_Em[i-1] < final.Regulation[i-1]:\n",
    "        if not (final.Regulation[i] == 'nan'):\n",
    "            string = 'G' + str(i+1)\n",
    "            sheet.write_column(string,final.FINAL_Em[i-1],red)\n",
    "        else:\n",
    "            string = 'G' + str(i+1)\n",
    "            sheet.write_column(string,final.FINAL_Em[i-1])\n",
    "    else:\n",
    "        string = 'G' + str(i+1)\n",
    "        sheet.write_column(string,final.FINAL_Em[i-1])\n",
    "file.close()"
   ]
  },
  {
   "cell_type": "code",
   "execution_count": 30,
   "metadata": {
    "collapsed": false
   },
   "outputs": [
    {
     "data": {
      "text/plain": [
       "753.68127111422302"
      ]
     },
     "execution_count": 30,
     "metadata": {},
     "output_type": "execute_result"
    }
   ],
   "source": [
    "i=1\n",
    "final.FINAL_Em[i-1]"
   ]
  }
 ],
 "metadata": {
  "kernelspec": {
   "display_name": "Python 3",
   "language": "python",
   "name": "python3"
  },
  "language_info": {
   "codemirror_mode": {
    "name": "ipython",
    "version": 3
   },
   "file_extension": ".py",
   "mimetype": "text/x-python",
   "name": "python",
   "nbconvert_exporter": "python",
   "pygments_lexer": "ipython3",
   "version": "3.3.3"
  }
 },
 "nbformat": 4,
 "nbformat_minor": 0
}
