{
 "cells": [
  {
   "cell_type": "code",
   "execution_count": 1,
   "metadata": {
    "collapsed": false,
    "scrolled": true
   },
   "outputs": [
    {
     "name": "stdout",
     "output_type": "stream",
     "text": [
      "Initialization finished!\n"
     ]
    }
   ],
   "source": [
    "#### 1065 Calculation #####\n",
    "import pandas as pd\n",
    "import numpy as np\n",
    "import scipy as sc\n",
    "import scipy.optimize as opt\n",
    "\n",
    "data_raw = pd.read_csv(\"Test_data.csv\", header=2,low_memory=False)\n",
    "data_raw = data_raw.convert_objects(convert_numeric=True)\n",
    "data_un = pd.DataFrame()\n",
    "\n",
    "## Prepare constant Values\n",
    "bs = 0.00821722713286476 # Has to be calculated\n",
    "RFPF = 0.0133\n",
    "CH4_RF = 1.1\n",
    "Tchiller = 7\n",
    "Pamb = 98.0918852\n",
    "Pchiller = Pamb + 23.75\n",
    "xCO2intdry = 0.000375\n",
    "xCO2dildry = 0.000375\n",
    "xTHC_THC_FID_init = 1\n",
    "print(\"Initialization finished!\")"
   ]
  },
  {
   "cell_type": "code",
   "execution_count": 2,
   "metadata": {
    "collapsed": false
   },
   "outputs": [],
   "source": [
    "# Preparation of Species\n",
    "species_raw = [col for col in list(data_raw) if col.startswith('E_CO')]\n",
    "if 'E_COHD2' in species_raw:\n",
    "    CO = 'E_COHD2'\n",
    "    CO_flag = 1 # CO-High\n",
    "else:\n",
    "    CO = 'E_COLD2'\n",
    "    CO_flag = 0 # CO-Low"
   ]
  },
  {
   "cell_type": "code",
   "execution_count": 3,
   "metadata": {
    "collapsed": false
   },
   "outputs": [
    {
     "name": "stdout",
     "output_type": "stream",
     "text": [
      "First Level of Calculation finished!\n"
     ]
    }
   ],
   "source": [
    "##### First Level of Calculation #####\n",
    "data_un[\"E_CO2D2\"] = data_raw.E_CO2D2*10000\n",
    "data_un[CO] = data_raw.get(CO)*10000\n",
    "data_un[\"E_NOXD2\"] = data_raw.E_NOXD2\n",
    "data_un[\"E_THCW2\"] = data_raw.E_THCW2\n",
    "data_un[\"xCH4wet\"] = data_raw.E_CH4W2/1000000\n",
    "data_un[\"C_FRAIRWS\"] = data_raw.C_FRAIRWS\n",
    "data_un[\"BARO Press\"] = data_raw.P_INLET*100\n",
    "data_un[\"T_INLET\"] = data_raw.T_INLET\n",
    "data_un[\"M_RELHUM\"] = data_raw.M_RELHUM\n",
    "data_un[\"mfuel\"] = data_raw.M_FRFUEL*1000/3600\n",
    "print(\"First Level of Calculation finished!\")"
   ]
  },
  {
   "cell_type": "code",
   "execution_count": 4,
   "metadata": {
    "collapsed": false
   },
   "outputs": [
    {
     "name": "stdout",
     "output_type": "stream",
     "text": [
      "Second Level of Calculation finished!\n"
     ]
    }
   ],
   "source": [
    "##### Second Level of Calculation #####\n",
    "data_un[\"xCO2meas\"] = data_un.E_CO2D2/1000000\n",
    "data_un[\"xCOmeas\"] = data_un.get(CO)/1000000\n",
    "data_un[\"xNOxmeas\"] = data_un.E_NOXD2/1000000\n",
    "data_un[\"xTHCmeas\"] = data_un.E_THCW2/1000000\n",
    "data_un[\"Molar Flow Wet\"] = data_un.C_FRAIRWS*1000/3600\n",
    "data_un[\"maf_kgh (wet)\"] = data_un.C_FRAIRWS\n",
    "data_un[\"pH2O @ inlet\"] = 10**(10.79574*(1-(273.16/(273.15+data_un.T_INLET)))-5.028*np.log10((273.15+data_un.T_INLET)/273.16)+0.000150475*(1-10**(-8.2969*(((273.15+data_un.T_INLET)/273.16)-1)))+0.00042873*(10**(4.76955*(1-(273.16/(273.15+data_un.T_INLET))))-1)-0.2138602)  ## Reference: CFR 1065.564\n",
    "data_un[\"xH2O\"] = data_un.M_RELHUM*data_un.get(\"pH2O @ inlet\")/(data_un.get(\"BARO Press\")*100) ## Reference: CFR 1065.564\n",
    "data_un[\"xTHC[THC_FID]cor\"] = data_un.E_THCW2-xTHC_THC_FID_init ## Reference: CFR 1065.660\n",
    "print(\"Second Level of Calculation finished!\")"
   ]
  },
  {
   "cell_type": "code",
   "execution_count": 6,
   "metadata": {
    "collapsed": false,
    "scrolled": false
   },
   "outputs": [
    {
     "name": "stdout",
     "output_type": "stream",
     "text": [
      "Third Level of Calculation finished!\n"
     ]
    }
   ],
   "source": [
    "##### Third Level of Calculation #####\n",
    "data_un.E_THCW2 = data_un.get(\"xTHC[THC_FID]cor\") ## Reference: CFR 1065.660\n",
    "data_un[\"xNO2meas\"] = data_un.xNOxmeas*0\n",
    "data_un[\"xNOmeas\"] = data_un.xNOxmeas*1\n",
    "data_un[\"xTHCwet\"] = data_un.xTHCmeas\n",
    "data_un[\"Intake Air flow\"] = data_un.get(\"Molar Flow Wet\")/28.96\n",
    "data_un[\"Mmix\"] = 28.96559*(1-data_un.xH2O)+18.01528*data_un.xH2O\n",
    "data_un[\"xH2Oint\"] = data_un.xH2O\n",
    "data_un[\"xH2Odil\"] = data_un.xH2O\n",
    "\n",
    "# Constant Channels\n",
    "c = np.zeros((len(data_un),1))\n",
    "c.fill(3.5)\n",
    "data_un[\"xH2Ogas\"] = c\n",
    "c.fill(13.875389)\n",
    "data_un[\"Molar Mass of HC Emissions\"] = c\n",
    "c.fill(28.0101)\n",
    "data_un[\"Molar Mass of CO Emissions\"] = c\n",
    "c.fill(46.0055)\n",
    "data_un[\"Molar Mass of NOx Emissions (as NO2)\"] = c\n",
    "c.fill(44.0095)\n",
    "data_un[\"Molar Mass of CO2 Emissions\"] = c\n",
    "c.fill(13.875389)\n",
    "data_un[\"Molar Mass of NMHC Emissions\"] = c\n",
    "c.fill(0.866)\n",
    "data_un[\"Wc\"] = c\n",
    "c.fill(1.84)\n",
    "data_un['alpha'] = c\n",
    "c.fill(0)\n",
    "data_un['beta'] = c\n",
    "data_un['gamma'] = c\n",
    "data_un['delta'] = c\n",
    "c = None\n",
    "print(\"Third Level of Calculation finished!\")"
   ]
  },
  {
   "cell_type": "code",
   "execution_count": 7,
   "metadata": {
    "collapsed": false
   },
   "outputs": [
    {
     "name": "stdout",
     "output_type": "stream",
     "text": [
      "Fourth Level of Calculation finished!\n"
     ]
    }
   ],
   "source": [
    "##### Fourth Level of Calculation #####\n",
    "data_un[\"xNMHCwet\"] = (data_un.xTHCwet-data_un.xCH4wet*CH4_RF)/(1-RFPF*CH4_RF) ## Reference: CFR 1065.660\n",
    "data_un[\"nint (Intake Air Flow)\"] = data_un.get(\"Molar Flow Wet\")/data_un.Mmix\n",
    "data_un[\"xH2Ointdry\"] = data_un.xH2Oint/(1-data_un.xH2Oint)\n",
    "data_un[\"xH2Odildry\"] = data_un.xH2Odil/(1-data_un.xH2Odil)\n",
    "print(\"Fourth Level of Calculation finished!\")"
   ]
  },
  {
   "cell_type": "code",
   "execution_count": 8,
   "metadata": {
    "collapsed": false,
    "scrolled": true
   },
   "outputs": [
    {
     "name": "stdout",
     "output_type": "stream",
     "text": [
      "Fifth Level of Calculation finished!\n"
     ]
    }
   ],
   "source": [
    "##### Fifth Level of Calculation #####\n",
    "data_un[\"xCO2int\"] = xCO2intdry/(1+data_un.xH2Ointdry)\n",
    "data_un[\"xO2int\"] = ((0.20982-xCO2intdry)/(1+data_un.xH2Ointdry)) \n",
    "data_un[\"xCO2dil\"] = xCO2dildry/(1+data_un.xH2Odildry)\n",
    "print(\"Fifth Level of Calculation finished!\")"
   ]
  },
  {
   "cell_type": "code",
   "execution_count": 10,
   "metadata": {
    "collapsed": false,
    "scrolled": true
   },
   "outputs": [
    {
     "name": "stdout",
     "output_type": "stream",
     "text": [
      "Circle Calculation finished!\n"
     ]
    }
   ],
   "source": [
    "##### Circle Calculation #####\n",
    "def f(variables):\n",
    "    # Channels in Formulas\n",
    "    #A = xdil/exh -- G\n",
    "    #B = xH2Oexh -- H\n",
    "    #C = xCcombdry -- I\n",
    "    #D = xH2Oexhdry -- J\n",
    "    #E = xdil/exhdry -- K\n",
    "    #F = xint/exhdry -- L\n",
    "    #G = xraw/exhdry -- M\n",
    "    #H = xH2OCOmeas -- AC\n",
    "    #I = xH2OTHCmeas -- AD\n",
    "    #J = xH2ONOxmeas -- AE\n",
    "    #K = xH2ONO2meas -- AF\n",
    "    #L = xH2OCO2meas -- AH\n",
    "    #M = xCOdry -- AI\n",
    "    #N = xTHCdry -- AJ\n",
    "    #O = xNOxdry -- AK\n",
    "    #P = xNO2dry -- AL\n",
    "    #Q = xCO2dry -- AN\n",
    "    #R = xH2dry -- AO \n",
    "    \n",
    "    # Unknown Variables\n",
    "    (A,B,C,D,E,F,G,H,I,J,K,L,M,N,O,P,Q,R) = variables\n",
    "        \n",
    "    # Known Variables\n",
    "    S = data_un.xCO2dil[i]\n",
    "    T = data_un.xCO2int[i]\n",
    "    U = data_un.alpha[i]\n",
    "    V = data_un.xH2Odil[i]\n",
    "    W = data_un.xH2Oint[i]\n",
    "    X = data_un.xO2int[i]\n",
    "    Y = data_un.beta[i]\n",
    "    Z = data_un.gamma[i]\n",
    "    AA = data_un.delta[i]\n",
    "    AB = data_un.xCOmeas[i]\n",
    "    AC = data_un.xTHCmeas[i]\n",
    "    AD = data_un.xNOxmeas[i]\n",
    "    AE = data_un.xNO2meas[i]\n",
    "    AF = data_un.xH2Ogas[i]\n",
    "    AG = data_un.xCO2meas[i]\n",
    "    \n",
    "    # Equations to solve\n",
    "    eq1 = 1-(G/(1+D))-A\n",
    "    eq2 = D/(1+D)-B\n",
    "    eq3 = Q+(M)+(N)-(S*E)-(T*F)-C\n",
    "    eq4 = ((U/2)*(C-N))+V*E+W*F-R-D \n",
    "    eq5 = A/(1-B)-E\n",
    "    eq6 = (1/(2*X))*(((U/2)-Y+2+(2*Z))*(C-N)-(M-O-(2*P)+R))-F\n",
    "    eq7 = 0.5*(((U/2)+Y+AA)*(C-N)+((2*N)+M-P+R))+F-G\n",
    "    eq8 = AB/(1-H)-M ## Reference: CFR 1065.659\n",
    "    eq10 = AC/(1-I)-N ## Reference: CFR 1065.659\n",
    "    eq11 = B-I\n",
    "    eq12 = AD/(1-J)-O ## Reference: CFR 1065.659\n",
    "    eq14 = AE/(1-K)-P ## Reference: CFR 1065.659\n",
    "    eq16 = (M*(D-V*E))/(AF*(Q-S*E))-R ## Reference: CFR 1065.659\n",
    "    eq17 = AG/(1-L)-Q ## Reference: CFR 1065.659\n",
    "    \n",
    "    if mode==0:\n",
    "        eq9 = bs-H    \n",
    "        eq13 = bs-J\n",
    "        eq15 = bs-K\n",
    "        eq18 = bs-L\n",
    "    else:\n",
    "        eq9 = B-H    \n",
    "        eq13 = B-J\n",
    "        eq15 = B-K\n",
    "        eq18 = B-L\n",
    "    \n",
    "    return [eq1,eq2,eq3,eq4,eq5,eq6,eq7,eq8,eq9,eq10,eq11,eq12,eq13,eq14,eq15,eq16,eq17,eq18]\n",
    "\n",
    "i = 0\n",
    "mode = 0\n",
    "result_list = np.zeros((len(data_un),18))\n",
    "\n",
    "while i < len(data_un)-1:\n",
    "    i +=1  \n",
    "    g = 0.5 # First guess for iteration start\n",
    "\n",
    "    solution = opt.fsolve(f,(g,g,g,g,g,g,g,g,g,g,g,g,g,g,g,g,g,g))\n",
    "    \n",
    "    if solution[2]<bs:\n",
    "        mode = 1\n",
    "        solution = opt.fsolve(f,(g,g,g,g,g,g,g,g,g,g,g,g,g,g,g,g,g,g))\n",
    "        mode = 0\n",
    "    result_list[:][i] = solution\n",
    "\n",
    "iteration_df = pd.DataFrame(result_list,columns =['xdil/exh','xH2Oexh','xCcombdry','xH2Oexhdry','xdil/exhdry','xint/exhdry','xraw/exhdry','xH2OCOmeas','xH2OTHCmeas','xH2ONOxmeas','xH2ONO2meas','xH2OCO2meas','xCOdry','xTHCdry','xNOxdry','xNO2dry','xCO2dry','xH2dry'])\n",
    "data_un = pd.concat([data_un,iteration_df],axis=1)\n",
    "\n",
    "# Clear Variables\n",
    "mode = None\n",
    "result_list = None\n",
    "g = None\n",
    "solution = None\n",
    "iteration_df = None\n",
    "print(\"Circle Calculation finished!\")\n",
    "## 05/06/2015 - Anton lang, Lang@FEV.com"
   ]
  },
  {
   "cell_type": "code",
   "execution_count": 12,
   "metadata": {
    "collapsed": false,
    "scrolled": true
   },
   "outputs": [
    {
     "name": "stdout",
     "output_type": "stream",
     "text": [
      "Uncorrected Calculation finished!\n"
     ]
    }
   ],
   "source": [
    "##### Calculation of remaining values #####\n",
    "data_un[\"xH2ONOmeas\"] = data_un.xH2ONO2meas\n",
    "data_un[\"xNOdry\"] = data_un.xNOmeas/(1-data_un.xH2ONOmeas) ## Reference: CFR 1065.659\n",
    "data_un[\"xCO2dry\"] = data_un.xCO2meas/(1-data_un.xH2OCO2meas) ## Reference: CFR 1065.659\n",
    "data_un[\"xH2dry\"] = (data_un.xCOdry*(data_un.xH2Oexhdry-data_un.xH2Odil*data_un.get(\"xdil/exhdry\")))/(data_un.xH2Ogas*(data_un.xCO2dry-data_un.xCO2dil*data_un.get(\"xdil/exhdry\")))\n",
    "data_un[\"xCOwet\"] = data_un.xCOmeas*((1-data_un.xH2Oexh)/(1-data_un.xH2OCOmeas))\n",
    "data_un['xNOxwet'] = data_un.xNOxmeas*((1-data_un.xH2Oexh)/(1-data_un.xH2ONOxmeas))\n",
    "data_un[\"xNO2wet\"] = data_un.xNO2meas*((1-data_un.xH2Oexh)/(1-data_un.xH2ONO2meas))\n",
    "data_un[\"xNOwet\"] = data_un.xNOmeas*((1-data_un.xH2Oexh)/(1-data_un.xH2ONOmeas))\n",
    "data_un[\"xCO2wet\"] = data_un.xCO2meas*((1-data_un.xH2Oexh)/(1-data_un.xH2OCO2meas))\n",
    "data_un[\"xNOxcorrwet\"] = data_un.xNOxwet*(18.84 *data_un.xH2O + 0.68094) ## Reference: CFR 1065.670\n",
    "\n",
    "data_un[\"nexh\"] = data_un.get(\"nint (Intake Air Flow)\")/(1+((data_un.get(\"xint/exhdry\")-data_un.get(\"xraw/exhdry\"))/(1+data_un.xH2Oexhdry)))\n",
    "data_un[\"Mass_THC\"] = data_un.xTHCwet*data_un.nexh*data_un.get(\"Molar Mass of HC Emissions\")\n",
    "data_un[\"Mass_CO\"] = data_un.xCOwet*data_un.nexh*data_un.get(\"Molar Mass of CO Emissions\")\n",
    "data_un[\"Mass_NOx\"] = data_un.xNOxcorrwet*data_un.nexh*data_un.get(\"Molar Mass of NOx Emissions (as NO2)\")\n",
    "data_un[\"Mass_CO2\"] = data_un.xCO2wet*data_un.nexh*data_un.get(\"Molar Mass of CO2 Emissions\")\n",
    "data_un[\"Mass_NMHC\"] = data_un.xNMHCwet*data_un.nexh*data_un.get(\"Molar Mass of NMHC Emissions\")\n",
    "\n",
    "# Emissions in total\n",
    "sum_THC = data_un.Mass_THC.sum(skipna = True)\n",
    "sum_CO = data_un.Mass_CO.sum(skipna = True)\n",
    "sum_NOx = data_un.Mass_NOx.sum(skipna=True)\n",
    "sum_CO2 = data_un.Mass_CO2.sum(skipna=True)\n",
    "sum_NMHC = data_un.Mass_NMHC.sum(skipna=True)\n",
    "column_sum_un = [sum_CO2,sum_CO,sum_NOx,sum_THC,sum_NMHC]\n",
    "print(\"Uncorrected Calculation finished!\")"
   ]
  },
  {
   "cell_type": "code",
   "execution_count": 13,
   "metadata": {
    "collapsed": false
   },
   "outputs": [],
   "source": [
    "###############################################################\n",
    "##################### Drift Correction ########################\n",
    "###############################################################"
   ]
  },
  {
   "cell_type": "code",
   "execution_count": 57,
   "metadata": {
    "collapsed": false
   },
   "outputs": [
    {
     "name": "stdout",
     "output_type": "stream",
     "text": [
      "Data Load finished!\n"
     ]
    }
   ],
   "source": [
    "##### Load Pre/Post - Files #####\n",
    "import numpy as np\n",
    "data_pre = pd.read_csv(\"Pre_zero_span.csv\", low_memory=False)\n",
    "data_pre = data_pre.convert_objects(convert_numeric=True)\n",
    "data_post = pd.read_csv(\"Post_zero_span.csv\", low_memory=False)\n",
    "data_post = data_post.convert_objects(convert_numeric=True)\n",
    "data_cor = pd.DataFrame()\n",
    "\n",
    "species_pre = [col for col in list(data_pre) if col.startswith('E_')]\n",
    "\n",
    "zero_span = pd.DataFrame(data=np.zeros([5,5]),index=['PreZero','PreSpan','PostZero','PostSpan','Chosen'],columns=['E_CO2D2',CO,'E_NOXD2','E_THCW2','E_CH4W2'])\n",
    "print('Data Load finished!')"
   ]
  },
  {
   "cell_type": "code",
   "execution_count": 61,
   "metadata": {
    "collapsed": false
   },
   "outputs": [
    {
     "data": {
      "text/html": [
       "<div style=\"max-height:1000px;max-width:1500px;overflow:auto;\">\n",
       "<table border=\"1\" class=\"dataframe\">\n",
       "  <thead>\n",
       "    <tr style=\"text-align: right;\">\n",
       "      <th></th>\n",
       "      <th>E_CO2D2</th>\n",
       "      <th>E_COHD2</th>\n",
       "      <th>E_NOXD2</th>\n",
       "      <th>E_THCW2</th>\n",
       "      <th>E_CH4W2</th>\n",
       "    </tr>\n",
       "  </thead>\n",
       "  <tbody>\n",
       "    <tr>\n",
       "      <th>PreZero</th>\n",
       "      <td>      0</td>\n",
       "      <td>     0</td>\n",
       "      <td>    0.500</td>\n",
       "      <td>    0.315</td>\n",
       "      <td>    0.000</td>\n",
       "    </tr>\n",
       "    <tr>\n",
       "      <th>PreSpan</th>\n",
       "      <td> 190040</td>\n",
       "      <td> 58800</td>\n",
       "      <td> 4064.960</td>\n",
       "      <td> 9900.020</td>\n",
       "      <td> 2654.130</td>\n",
       "    </tr>\n",
       "    <tr>\n",
       "      <th>PostZero</th>\n",
       "      <td>     40</td>\n",
       "      <td>     0</td>\n",
       "      <td>    0.989</td>\n",
       "      <td>    0.162</td>\n",
       "      <td>    0.162</td>\n",
       "    </tr>\n",
       "    <tr>\n",
       "      <th>PostSpan</th>\n",
       "      <td> 189960</td>\n",
       "      <td> 58840</td>\n",
       "      <td> 4052.060</td>\n",
       "      <td> 9891.210</td>\n",
       "      <td> 2651.450</td>\n",
       "    </tr>\n",
       "    <tr>\n",
       "      <th>Chosen</th>\n",
       "      <td> 191000</td>\n",
       "      <td> 58700</td>\n",
       "      <td> 4005.000</td>\n",
       "      <td> 9900.000</td>\n",
       "      <td> 2510.000</td>\n",
       "    </tr>\n",
       "  </tbody>\n",
       "</table>\n",
       "</div>"
      ],
      "text/plain": [
       "          E_CO2D2  E_COHD2   E_NOXD2   E_THCW2   E_CH4W2\n",
       "PreZero         0        0     0.500     0.315     0.000\n",
       "PreSpan    190040    58800  4064.960  9900.020  2654.130\n",
       "PostZero       40        0     0.989     0.162     0.162\n",
       "PostSpan   189960    58840  4052.060  9891.210  2651.450\n",
       "Chosen     191000    58700  4005.000  9900.000  2510.000"
      ]
     },
     "execution_count": 61,
     "metadata": {},
     "output_type": "execute_result"
    }
   ],
   "source": [
    "zero_span"
   ]
  },
  {
   "cell_type": "code",
   "execution_count": 58,
   "metadata": {
    "collapsed": false
   },
   "outputs": [
    {
     "name": "stdout",
     "output_type": "stream",
     "text": [
      "Pre-Zero/Span is finished!\n"
     ]
    }
   ],
   "source": [
    "### Pre-File\n",
    "zero_data = data_pre.loc[59, species_pre[0]:species_pre[-1]]\n",
    "span_data = data_pre.loc[120, species_pre[0]:species_pre[-1]]\n",
    "\n",
    "## Zero -  Data ##\n",
    "zero_span.E_CO2D2['PreZero'] = abs(zero_data.E_CO2D2+0) * 10000\n",
    "zero_span[CO]['PreZero'] = abs(zero_data.get(CO)+0) * 10000\n",
    "zero_span.E_NOXD2['PreZero'] = abs(zero_data.E_NOXD2+0)\n",
    "zero_span.E_THCW2['PreZero'] = abs(zero_data.E_THCW2+0)\n",
    "\n",
    "## Span - Data ##\n",
    "zero_span.E_CO2D2['PreSpan'] = abs(data_pre.E_CO2D2.iloc[-1]+0) * 10000\n",
    "zero_span[CO]['PreSpan'] = abs(span_data.get(CO)+0) * 10000\n",
    "zero_span.E_NOXD2['PreSpan'] = abs(span_data.E_NOXD2+0)\n",
    "zero_span.E_THCW2['PreSpan'] = abs(span_data.E_THCW2+0)\n",
    "zero_span.E_CH4W2['PreSpan'] = abs(data_pre.E_THCW2.iloc[-1]+0)\n",
    "print('Pre-Zero/Span is finished!')"
   ]
  },
  {
   "cell_type": "code",
   "execution_count": 60,
   "metadata": {
    "collapsed": false
   },
   "outputs": [
    {
     "name": "stdout",
     "output_type": "stream",
     "text": [
      "Post-Zero/Span is finished!\n"
     ]
    }
   ],
   "source": [
    "### Post-File\n",
    "zero_data = data_post.loc[59, species_pre[0]:species_pre[-1]]\n",
    "span_data = data_post.loc[120, species_pre[0]:species_pre[-1]]\n",
    "\n",
    "## Zero -  Data ##\n",
    "zero_span.E_CO2D2['PostZero'] = abs(zero_data.E_CO2D2+0) * 10000\n",
    "zero_span[CO]['PostZero'] = abs(zero_data.get(CO)+0) * 10000\n",
    "zero_span.E_NOXD2['PostZero'] = abs(zero_data.E_NOXD2+0)\n",
    "zero_span.E_THCW2['PostZero'] = abs(zero_data.E_THCW2+0)\n",
    "zero_span.E_CH4W2['PostZero'] = abs(zero_data.E_THCW2+0)\n",
    "\n",
    "## Span - Data ##\n",
    "zero_span.E_CO2D2['PostSpan'] = abs(data_post.E_CO2D2.iloc[-1]+0) * 10000\n",
    "zero_span[CO]['PostSpan'] = abs(span_data.get(CO)+0) * 10000\n",
    "zero_span.E_NOXD2['PostSpan'] = abs(span_data.E_NOXD2+0)\n",
    "zero_span.E_THCW2['PostSpan'] = abs(span_data.E_THCW2+0)\n",
    "zero_span.E_CH4W2['PostSpan'] = abs(data_post.E_THCW2.iloc[-1]+0)\n",
    "\n",
    "## Chosen Values - From Database (Tanks)\n",
    "zero_span.E_CO2D2['Chosen'] = 191000\n",
    "zero_span[CO]['Chosen'] = 58700\n",
    "zero_span.E_NOXD2['Chosen'] = 4005\n",
    "zero_span.E_THCW2['Chosen'] = 9900\n",
    "zero_span.E_CH4W2['Chosen'] = 2510\n",
    "print('Post-Zero/Span is finished!')"
   ]
  },
  {
   "cell_type": "code",
   "execution_count": null,
   "metadata": {
    "collapsed": true
   },
   "outputs": [],
   "source": [
    "## Correct Raw-Emissions ##\n",
    "data.E_CO2D2 = zero_span.E_CO2D2['Chosen']*((2*data_un.E_CO2D2)-(zero_span.E_CO2D2['PreZero']+zero_span.E_CO2D2['PostZero']))/((zero_span.E_CO2D2['PreSpan']+zero_span.E_CO2D2['PostSpan'])-(zero_span.E_CO2D2['PreZero']+zero_span.E_CO2D2['PostZero']))\n",
    "data.E_COHD2 = zero_span.E_COHD2['Chosen']*((2*data_un.E_COHD2)-(zero_span.E_COHD2['PreZero']+zero_span.E_COHD2['PostZero']))/((zero_span.E_COHD2['PreSpan']+zero_span.E_COHD2['PostSpan'])-(zero_span.E_COHD2['PreZero']+zero_span.E_COHD2['PostZero']))\n",
    "data.E_NOXD2 = zero_span.E_NOXD2['Chosen']*((2*data_un.E_NOXD2)-(zero_span.E_NOXD2['PreZero']+zero_span.E_NOXD2['PostZero']))/((zero_span.E_NOXD2['PreSpan']+zero_span.E_NOXD2['PostSpan'])-(zero_span.E_NOXD2['PreZero']+zero_span.E_NOXD2['PostZero']))\n",
    "data.E_THCW2 = zero_span.E_THCW2['Chosen']*((2*data_un.E_THCW2)-(zero_span.E_THCW2['PreZero']+zero_span.E_THCW2['PostZero']))/((zero_span.E_THCW2['PreSpan']+zero_span.E_THCW2['PostSpan'])-(zero_span.E_THCW2['PreZero']+zero_span.E_THCW2['PostZero']))\n",
    "data.E_CH4W2 = zero_span.E_CH4W2['Chosen']*((2*data.E_CH4W2)-(zero_span.E_CH4W2['PreZero']+zero_span.E_CH4W2['PostZero']))/((zero_span.E_CH4W2['PreSpan']+zero_span.E_CH4W2['PostSpan'])-(zero_span.E_CH4W2['PreZero']+zero_span.E_CH4W2['PostZero']))\n",
    "print('Raw Emissions drift-corrected!')"
   ]
  }
 ],
 "metadata": {
  "kernelspec": {
   "display_name": "Python 3",
   "language": "python",
   "name": "python3"
  },
  "language_info": {
   "codemirror_mode": {
    "name": "ipython",
    "version": 3
   },
   "file_extension": ".py",
   "mimetype": "text/x-python",
   "name": "python",
   "nbconvert_exporter": "python",
   "pygments_lexer": "ipython3",
   "version": "3.3.3"
  }
 },
 "nbformat": 4,
 "nbformat_minor": 0
}
