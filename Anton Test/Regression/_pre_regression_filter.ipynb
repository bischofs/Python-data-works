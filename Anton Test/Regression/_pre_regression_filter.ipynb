{
 "cells": [
  {
   "cell_type": "code",
   "execution_count": 5,
   "metadata": {
    "collapsed": true
   },
   "outputs": [],
   "source": [
    "from django.db import models\n",
    "\n",
    "import pandas as pd\n",
    "import statsmodels.api as sm\n",
    "import logging\n",
    "import math\n",
    "\n",
    "class CycleValidator:\n",
    "    \n",
    "\n",
    "    def __init__(self, data, mapDict):\n",
    "        \n",
    "        self.data = data\n",
    "        self.mapDict = mapDict\n",
    "        com_power = (self.data[self.mapDict['Commanded_Torque']] * self.data[self.mapDict['Commanded_Speed']] / 9.5488) / 1000\n",
    "        self.data['Commanded_Power'] = com_power\n",
    "\n",
    "        self.dataDict = {'Speed': [self.mapDict['Commanded_Speed'], self.mapDict['Engine_Speed']],\n",
    "                         'Torque': [self.mapDict['Commanded_Torque'], self.mapDict['Engine_Torque']],\n",
    "                         'Power': [\"Commanded_Power\", self.mapDict['Engine_Power']]}\n",
    "        \n",
    "        self._pre_regression_filter()\n",
    "        self._regression()\n",
    "\n",
    "\n",
    "        \n",
    "    def _pre_regression_filter(self):\n",
    "\n",
    "        curbidle = 600\n",
    "        indeces = self.data[(self.data[self.mapDict['Commanded_Throttle']] == 0) & (self.data[self.mapDict['Commanded_Torque']] < 0)].index\n",
    "        self.data = self.data.drop(indeces)\n",
    "        indeces = self.data[(self.data[self.mapDict['Commanded_Throttle']] == 0) & (self.data[self.mapDict['Commanded_Speed']] == curbidle) &\n",
    "                            ((self.data[self.mapDict['Commanded_Torque']] - (0.02 * self.data[self.mapDict['Commanded_Torque']].max())) < self.data[self.mapDict['Engine_Torque']] ) & \n",
    "                            ((self.data[self.mapDict['Commanded_Torque']] + (0.02 * self.data[self.mapDict['Commanded_Torque']].max())) > self.data[self.mapDict['Engine_Torque']] )].index\n",
    "\n",
    "        self.data = self.data.drop(indeces)\n",
    "        #'Torque': [self.mapDict['Commanded_Torque'], self.mapDict['Engine_Torque']],\n",
    "        #indeces = self.data\n",
    "        \n",
    "\n",
    "    def _regression(self):\n",
    "        \n",
    "        self.reg_results = { 'Speed': { 'slope': \" \", 'intercept': \" \", 'standard_error': \" \", 'rsquared': \" \" },\n",
    "                             'Torque': { 'slope': \" \", 'intercept': \" \", 'standard_error': \" \", 'rsquared': \" \" },\n",
    "                             'Power': { 'slope': \" \", 'intercept': \" \", 'standard_error': \" \", 'rsquared': \" \" }}\n",
    "\n",
    "        for channel in self.dataDict.items():\n",
    "           self._regression_util(channel[0], channel[1][0], channel[1][1])\n",
    " "
   ]
  },
  {
   "cell_type": "code",
   "execution_count": 173,
   "metadata": {
    "collapsed": true
   },
   "outputs": [],
   "source": [
    "from django.db import models\n",
    "\n",
    "import pandas as pd\n",
    "import statsmodels.api as sm\n",
    "import logging\n",
    "import math\n",
    "import numpy as np\n",
    "\n",
    "# Import Data\n",
    "data = pd.read_csv(\"Test.csv\", header=2,encoding=\"Windows-1252\")\n",
    "torque_demand = data.get(\"UDPi_TorqueDemand\").convert_objects(convert_numeric=True)\n",
    "torque_eng = data.get(\"C_TRQENG\").convert_objects(convert_numeric=True)\n",
    "speed_demand = data.get(\"UDPi_SpeedDemand\").convert_objects(convert_numeric=True)\n",
    "speed_eng = data.get(\"C_SPDDYN\").convert_objects(convert_numeric=True)"
   ]
  },
  {
   "cell_type": "code",
   "execution_count": 146,
   "metadata": {
    "collapsed": false
   },
   "outputs": [
    {
     "ename": "SyntaxError",
     "evalue": "unexpected EOF while parsing (<ipython-input-146-8a4adc0f0fbf>, line 11)",
     "output_type": "error",
     "traceback": [
      "\u001b[1;36m  File \u001b[1;32m\"<ipython-input-146-8a4adc0f0fbf>\"\u001b[1;36m, line \u001b[1;32m11\u001b[0m\n\u001b[1;33m    \u001b[0m\n\u001b[1;37m    ^\u001b[0m\n\u001b[1;31mSyntaxError\u001b[0m\u001b[1;31m:\u001b[0m unexpected EOF while parsing\n"
     ]
    }
   ],
   "source": [
    "##### Max Check #####\n",
    "max_speed = np.nanmax(speed_demand)[2]\n",
    "max_torque = np.nanmax(torque_demand)[2]\n",
    "torque_test = torque_demand-0.02*max_torque\n",
    "\n",
    "for i in range(2,len(torque_eng)):\n",
    "    if torque_demand[i] == max_torque:\n",
    "        print(\"hallo\")\n",
    "        #if speed_eng[i]>speed_demand[i]*0.98 & torque_eng[i] > torque_test[i]:\n",
    "         #   print(\"hallo\")\n",
    "    "
   ]
  },
  {
   "cell_type": "code",
   "execution_count": 174,
   "metadata": {
    "collapsed": false
   },
   "outputs": [
    {
     "ename": "KeyError",
     "evalue": "2",
     "output_type": "error",
     "traceback": [
      "\u001b[1;31m---------------------------------------------------------------------------\u001b[0m",
      "\u001b[1;31mKeyError\u001b[0m                                  Traceback (most recent call last)",
      "\u001b[1;32m<ipython-input-174-c71e652bb44a>\u001b[0m in \u001b[0;36m<module>\u001b[1;34m()\u001b[0m\n\u001b[0;32m      8\u001b[0m \u001b[1;33m\u001b[0m\u001b[0m\n\u001b[0;32m      9\u001b[0m \u001b[1;32mfor\u001b[0m \u001b[0mi\u001b[0m \u001b[1;32min\u001b[0m \u001b[0mrange\u001b[0m\u001b[1;33m(\u001b[0m\u001b[1;36m2\u001b[0m\u001b[1;33m,\u001b[0m\u001b[0mlen\u001b[0m\u001b[1;33m(\u001b[0m\u001b[0mspeed_demand\u001b[0m\u001b[1;33m)\u001b[0m\u001b[1;33m)\u001b[0m\u001b[1;33m:\u001b[0m\u001b[1;33m\u001b[0m\u001b[0m\n\u001b[1;32m---> 10\u001b[1;33m     \u001b[1;32mif\u001b[0m \u001b[0mspeed_demand\u001b[0m\u001b[1;33m[\u001b[0m\u001b[0mi\u001b[0m\u001b[1;33m]\u001b[0m \u001b[1;33m==\u001b[0m \u001b[0mmin_speed\u001b[0m\u001b[1;33m[\u001b[0m\u001b[0mi\u001b[0m\u001b[1;33m]\u001b[0m \u001b[1;33m&\u001b[0m \u001b[0mtorque_demand_new\u001b[0m\u001b[1;33m[\u001b[0m\u001b[0mi\u001b[0m\u001b[1;33m]\u001b[0m \u001b[1;33m==\u001b[0m \u001b[0mmin_torque\u001b[0m\u001b[1;33m[\u001b[0m\u001b[0mi\u001b[0m\u001b[1;33m]\u001b[0m\u001b[1;33m:\u001b[0m\u001b[1;33m\u001b[0m\u001b[0m\n\u001b[0m\u001b[0;32m     11\u001b[0m         \u001b[0mprint\u001b[0m\u001b[1;33m(\u001b[0m\u001b[1;34m\"Hallo\"\u001b[0m\u001b[1;33m)\u001b[0m\u001b[1;33m\u001b[0m\u001b[0m\n\u001b[0;32m     12\u001b[0m \u001b[1;31m#for i in range(1,len(speed_demand):\u001b[0m\u001b[1;33m\u001b[0m\u001b[1;33m\u001b[0m\u001b[0m\n",
      "\u001b[1;32m/usr/local/lib/python3.3/dist-packages/pandas/core/series.py\u001b[0m in \u001b[0;36m__getitem__\u001b[1;34m(self, key)\u001b[0m\n\u001b[0;32m    506\u001b[0m     \u001b[1;32mdef\u001b[0m \u001b[0m__getitem__\u001b[0m\u001b[1;33m(\u001b[0m\u001b[0mself\u001b[0m\u001b[1;33m,\u001b[0m \u001b[0mkey\u001b[0m\u001b[1;33m)\u001b[0m\u001b[1;33m:\u001b[0m\u001b[1;33m\u001b[0m\u001b[0m\n\u001b[0;32m    507\u001b[0m         \u001b[1;32mtry\u001b[0m\u001b[1;33m:\u001b[0m\u001b[1;33m\u001b[0m\u001b[0m\n\u001b[1;32m--> 508\u001b[1;33m             \u001b[0mresult\u001b[0m \u001b[1;33m=\u001b[0m \u001b[0mself\u001b[0m\u001b[1;33m.\u001b[0m\u001b[0mindex\u001b[0m\u001b[1;33m.\u001b[0m\u001b[0mget_value\u001b[0m\u001b[1;33m(\u001b[0m\u001b[0mself\u001b[0m\u001b[1;33m,\u001b[0m \u001b[0mkey\u001b[0m\u001b[1;33m)\u001b[0m\u001b[1;33m\u001b[0m\u001b[0m\n\u001b[0m\u001b[0;32m    509\u001b[0m \u001b[1;33m\u001b[0m\u001b[0m\n\u001b[0;32m    510\u001b[0m             \u001b[1;32mif\u001b[0m \u001b[1;32mnot\u001b[0m \u001b[0mnp\u001b[0m\u001b[1;33m.\u001b[0m\u001b[0misscalar\u001b[0m\u001b[1;33m(\u001b[0m\u001b[0mresult\u001b[0m\u001b[1;33m)\u001b[0m\u001b[1;33m:\u001b[0m\u001b[1;33m\u001b[0m\u001b[0m\n",
      "\u001b[1;32m/usr/local/lib/python3.3/dist-packages/pandas/core/index.py\u001b[0m in \u001b[0;36mget_value\u001b[1;34m(self, series, key)\u001b[0m\n\u001b[0;32m   1413\u001b[0m \u001b[1;33m\u001b[0m\u001b[0m\n\u001b[0;32m   1414\u001b[0m         \u001b[1;32mtry\u001b[0m\u001b[1;33m:\u001b[0m\u001b[1;33m\u001b[0m\u001b[0m\n\u001b[1;32m-> 1415\u001b[1;33m             \u001b[1;32mreturn\u001b[0m \u001b[0mself\u001b[0m\u001b[1;33m.\u001b[0m\u001b[0m_engine\u001b[0m\u001b[1;33m.\u001b[0m\u001b[0mget_value\u001b[0m\u001b[1;33m(\u001b[0m\u001b[0ms\u001b[0m\u001b[1;33m,\u001b[0m \u001b[0mk\u001b[0m\u001b[1;33m)\u001b[0m\u001b[1;33m\u001b[0m\u001b[0m\n\u001b[0m\u001b[0;32m   1416\u001b[0m         \u001b[1;32mexcept\u001b[0m \u001b[0mKeyError\u001b[0m \u001b[1;32mas\u001b[0m \u001b[0me1\u001b[0m\u001b[1;33m:\u001b[0m\u001b[1;33m\u001b[0m\u001b[0m\n\u001b[0;32m   1417\u001b[0m             \u001b[1;32mif\u001b[0m \u001b[0mlen\u001b[0m\u001b[1;33m(\u001b[0m\u001b[0mself\u001b[0m\u001b[1;33m)\u001b[0m \u001b[1;33m>\u001b[0m \u001b[1;36m0\u001b[0m \u001b[1;32mand\u001b[0m \u001b[0mself\u001b[0m\u001b[1;33m.\u001b[0m\u001b[0minferred_type\u001b[0m \u001b[1;32min\u001b[0m \u001b[1;33m[\u001b[0m\u001b[1;34m'integer'\u001b[0m\u001b[1;33m,\u001b[0m\u001b[1;34m'boolean'\u001b[0m\u001b[1;33m]\u001b[0m\u001b[1;33m:\u001b[0m\u001b[1;33m\u001b[0m\u001b[0m\n",
      "\u001b[1;32mpandas/index.pyx\u001b[0m in \u001b[0;36mpandas.index.IndexEngine.get_value (pandas/index.c:3097)\u001b[1;34m()\u001b[0m\n",
      "\u001b[1;32mpandas/index.pyx\u001b[0m in \u001b[0;36mpandas.index.IndexEngine.get_value (pandas/index.c:2826)\u001b[1;34m()\u001b[0m\n",
      "\u001b[1;32mpandas/index.pyx\u001b[0m in \u001b[0;36mpandas.index.IndexEngine.get_loc (pandas/index.c:3692)\u001b[1;34m()\u001b[0m\n",
      "\u001b[1;32mpandas/hashtable.pyx\u001b[0m in \u001b[0;36mpandas.hashtable.Int64HashTable.get_item (pandas/hashtable.c:7201)\u001b[1;34m()\u001b[0m\n",
      "\u001b[1;32mpandas/hashtable.pyx\u001b[0m in \u001b[0;36mpandas.hashtable.Int64HashTable.get_item (pandas/hashtable.c:7139)\u001b[1;34m()\u001b[0m\n",
      "\u001b[1;31mKeyError\u001b[0m: 2"
     ]
    }
   ],
   "source": [
    "##### Min Check #####\n",
    "speed_demand = speed_demand.drop(np.where(speed_demand == 0)[0])\n",
    "speed_demand.index = range(0,len(speed_demand))\n",
    "torque_demand = torque_demand.drop(np.where(torque_demand == 0)[0])\n",
    "torque_demand.index = range(0,len(torque_demand))\n",
    "#min_speed = np.nanmin(speed_demand)\n",
    "#min_torque = np.nanmin(torque_demand)\n",
    "\n",
    "for i in range(2,len(speed_demand)):\n",
    "    if speed_demand[i] == min_speed[i] & torque_demand_new[i] == min_torque[i]:\n",
    "        print(\"Hallo\")\n",
    "#for i in range(1,len(speed_demand):\n",
    " #              if min_speed[1]="
   ]
  },
  {
   "cell_type": "code",
   "execution_count": 175,
   "metadata": {
    "collapsed": false
   },
   "outputs": [
    {
     "data": {
      "text/plain": [
       "0            NaN\n",
       "1       0.075000\n",
       "2       9.673782\n",
       "3     104.921028\n",
       "4     262.283325\n",
       "5     379.444153\n",
       "6     434.977753\n",
       "7     451.039703\n",
       "8     457.357635\n",
       "9     452.726105\n",
       "10    427.311798\n",
       "11    372.696198\n",
       "12    273.561127\n",
       "13    118.344315\n",
       "14     24.419924\n",
       "...\n",
       "1131    15.0\n",
       "1132    15.0\n",
       "1133    15.0\n",
       "1134    15.0\n",
       "1135    15.0\n",
       "1136    15.0\n",
       "1137    15.0\n",
       "1138    15.0\n",
       "1139    15.0\n",
       "1140    15.0\n",
       "1141    15.0\n",
       "1142    15.0\n",
       "1143    15.0\n",
       "1144    15.0\n",
       "1145    13.5\n",
       "Name: UDPi_TorqueDemand, Length: 1146, dtype: float64"
      ]
     },
     "execution_count": 175,
     "metadata": {},
     "output_type": "execute_result"
    }
   ],
   "source": [
    "torque_demand"
   ]
  }
 ],
 "metadata": {
  "kernelspec": {
   "display_name": "Python 3",
   "language": "python",
   "name": "python3"
  },
  "language_info": {
   "codemirror_mode": {
    "name": "ipython",
    "version": 3
   },
   "file_extension": ".py",
   "mimetype": "text/x-python",
   "name": "python",
   "nbconvert_exporter": "python",
   "pygments_lexer": "ipython3",
   "version": "3.3.3"
  }
 },
 "nbformat": 4,
 "nbformat_minor": 0
}
