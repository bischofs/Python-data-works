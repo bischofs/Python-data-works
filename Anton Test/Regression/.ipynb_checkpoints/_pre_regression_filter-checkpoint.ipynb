{
 "cells": [
  {
   "cell_type": "code",
   "execution_count": 5,
   "metadata": {
    "collapsed": true
   },
   "outputs": [],
   "source": [
    "from django.db import models\n",
    "\n",
    "import pandas as pd\n",
    "import statsmodels.api as sm\n",
    "import logging\n",
    "import math\n",
    "\n",
    "class CycleValidator:\n",
    "    \n",
    "\n",
    "    def __init__(self, data, mapDict):\n",
    "        \n",
    "        self.data = data\n",
    "        self.mapDict = mapDict\n",
    "        com_power = (self.data[self.mapDict['Commanded_Torque']] * self.data[self.mapDict['Commanded_Speed']] / 9.5488) / 1000\n",
    "        self.data['Commanded_Power'] = com_power\n",
    "\n",
    "        self.dataDict = {'Speed': [self.mapDict['Commanded_Speed'], self.mapDict['Engine_Speed']],\n",
    "                         'Torque': [self.mapDict['Commanded_Torque'], self.mapDict['Engine_Torque']],\n",
    "                         'Power': [\"Commanded_Power\", self.mapDict['Engine_Power']]}\n",
    "        \n",
    "        self._pre_regression_filter()\n",
    "        self._regression()\n",
    "\n",
    "\n",
    "        \n",
    "    def _pre_regression_filter(self):\n",
    "\n",
    "        curbidle = 600\n",
    "        indeces = self.data[(self.data[self.mapDict['Commanded_Throttle']] == 0) & (self.data[self.mapDict['Commanded_Torque']] < 0)].index\n",
    "        self.data = self.data.drop(indeces)\n",
    "        indeces = self.data[(self.data[self.mapDict['Commanded_Throttle']] == 0) & (self.data[self.mapDict['Commanded_Speed']] == curbidle) &\n",
    "                            ((self.data[self.mapDict['Commanded_Torque']] - (0.02 * self.data[self.mapDict['Commanded_Torque']].max())) < self.data[self.mapDict['Engine_Torque']] ) & \n",
    "                            ((self.data[self.mapDict['Commanded_Torque']] + (0.02 * self.data[self.mapDict['Commanded_Torque']].max())) > self.data[self.mapDict['Engine_Torque']] )].index\n",
    "\n",
    "        self.data = self.data.drop(indeces)\n",
    "        #'Torque': [self.mapDict['Commanded_Torque'], self.mapDict['Engine_Torque']],\n",
    "        #indeces = self.data\n",
    "        \n",
    "\n",
    "    def _regression(self):\n",
    "        \n",
    "        self.reg_results = { 'Speed': { 'slope': \" \", 'intercept': \" \", 'standard_error': \" \", 'rsquared': \" \" },\n",
    "                             'Torque': { 'slope': \" \", 'intercept': \" \", 'standard_error': \" \", 'rsquared': \" \" },\n",
    "                             'Power': { 'slope': \" \", 'intercept': \" \", 'standard_error': \" \", 'rsquared': \" \" }}\n",
    "\n",
    "        for channel in self.dataDict.items():\n",
    "           self._regression_util(channel[0], channel[1][0], channel[1][1])\n",
    " "
   ]
  },
  {
   "cell_type": "code",
   "execution_count": 22,
   "metadata": {
    "collapsed": true
   },
   "outputs": [],
   "source": [
    "from django.db import models\n",
    "\n",
    "import pandas as pd\n",
    "import statsmodels.api as sm\n",
    "import logging\n",
    "import math\n",
    "import numpy as np\n",
    "\n",
    "# Import Data\n",
    "data = pd.read_csv(\"Test.csv\", header=2,encoding=\"Windows-1252\")\n",
    "torque_demand = data.get(\"UDPi_TorqueDemand\").convert_objects(convert_numeric=True)\n",
    "torque_eng = data.get(\"C_TRQENG\").convert_objects(convert_numeric=True)\n",
    "speed_demand = data.get(\"UDPi_SpeedDemand\").convert_objects(convert_numeric=True)\n",
    "speed_eng = data.get(\"C_SPDDYN\").convert_objects(convert_numeric=True)"
   ]
  },
  {
   "cell_type": "code",
   "execution_count": 72,
   "metadata": {
    "collapsed": false
   },
   "outputs": [
    {
     "name": "stdout",
     "output_type": "stream",
     "text": [
      "hallo\n"
     ]
    }
   ],
   "source": [
    "##### Max Check #####\n",
    "max_speed = np.nanmax(speed_demand)[2]\n",
    "max_torque = np.nanmax(torque_demand)[2]\n",
    "torque_test = torque_demand-0.02*max_torque\n",
    "\n",
    "for i in range(2,len(torque_eng)):\n",
    "    if torque_demand[i] == max_torque:\n",
    "        print(\"hallo\")\n",
    "        #if speed_eng[i]>speed_demand[i]*0.98 & torque_eng[i] > torque_test[i]:\n",
    "         #   print(\"hallo\")\n",
    "    "
   ]
  },
  {
   "cell_type": "code",
   "execution_count": 138,
   "metadata": {
    "collapsed": true
   },
   "outputs": [],
   "source": [
    "##### Min Check #####\n",
    "speed_demand = speed_demand.drop(np.where(speed_demand == 0)[0])\n",
    "for i in range(2,len(speed_eng)):\n",
    "               speed_demand_new = speed_demand.drop(np.where(speed_demand == 0)[0])\n",
    "min_speed = np.nanmin(speed_demand)\n",
    "#for i in range(1,len(speed_demand):\n",
    " #              if min_speed[1]="
   ]
  },
  {
   "cell_type": "code",
   "execution_count": 137,
   "metadata": {
    "collapsed": false
   },
   "outputs": [
    {
     "data": {
      "text/plain": [
       "array([1169, 1170, 1171, 1172, 1173, 1174, 1175, 1176, 1177, 1178, 1179,\n",
       "       1180, 1181, 1182, 1183, 1184, 1185, 1186, 1187, 1188, 1189, 1190,\n",
       "       1191, 1192, 1193, 1194, 1195])"
      ]
     },
     "execution_count": 137,
     "metadata": {},
     "output_type": "execute_result"
    }
   ],
   "source": [
    "listi = speed_demand ==0\n",
    "#[i for i, x in enumerate(speed_demand) if listi]\n",
    "#b = np.zero(speed_demand)\n",
    "#speed_demand.drop(b[0][:])\n",
    "np.where(speed_demand == 0)[0]"
   ]
  }
 ],
 "metadata": {
  "kernelspec": {
   "display_name": "Python 3",
   "language": "python",
   "name": "python3"
  },
  "language_info": {
   "codemirror_mode": {
    "name": "ipython",
    "version": 3
   },
   "file_extension": ".py",
   "mimetype": "text/x-python",
   "name": "python",
   "nbconvert_exporter": "python",
   "pygments_lexer": "ipython3",
   "version": "3.3.3"
  }
 },
 "nbformat": 4,
 "nbformat_minor": 0
}
