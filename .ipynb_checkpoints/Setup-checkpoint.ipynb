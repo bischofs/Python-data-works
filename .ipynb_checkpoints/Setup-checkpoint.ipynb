{
 "metadata": {
  "name": "",
  "signature": "sha256:06fc119beea7f09d45ed0205098dd4ebec51c75c7fd4712c274cd9a9c4ce4c60"
 },
 "nbformat": 3,
 "nbformat_minor": 0,
 "worksheets": []
}